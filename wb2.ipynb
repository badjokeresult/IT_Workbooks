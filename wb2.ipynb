{
 "cells": [
  {
   "cell_type": "markdown",
   "id": "former-drunk",
   "metadata": {},
   "source": [
    "# Рабочая тетрадь 2. Основы Python. Библиотеки"
   ]
  },
  {
   "cell_type": "markdown",
   "id": "august-lightning",
   "metadata": {},
   "source": [
    "## Ломоносов Георгий Алексеевич"
   ]
  },
  {
   "cell_type": "markdown",
   "id": "hollow-suite",
   "metadata": {},
   "source": [
    "### 1.1 Библиотека NumPy"
   ]
  },
  {
   "cell_type": "markdown",
   "id": "universal-chess",
   "metadata": {},
   "source": [
    "NumPy (NumericalPython) - это библиотека Python с открытым исходным кодом, которая используется практически во всех областях науки и техники. Это универсальный стандарт для работы с числовыми данными в Python.\n",
    "\n",
    "Если у вас уже есть Python, вы можете установить NumPy с помощью командной строки:\n",
    "<div style=\"margin-left: 25px\">pip install numpy</div>\n",
    "\n",
    "Чтобы начать использовать NumPy необходимо импортировать соответствующую библиотеку:\n",
    "<div style=\"margin-left: 25px\">import numpy as np</div>\n",
    "\n",
    "Основным объектом NumPy является однородный многомерный массив (в numpy называется numpy.ndarray). Это многомерный массив элементов (обычно чисел), одного типа.\n",
    "Наиболее важные атрибуты объектов ndarray:\n",
    "<p>ndarray.ndim - число измерений (чаще их называют \"оси\") массива.</p>\n",
    "<p>ndarray.shape - размеры массива, его форма. Это кортеж натуральных чисел, показывающий длину массива по каждой оси. Для матрицы из n строк и m столбов, shape будет (n,m). Число элементов кортежа shape равно ndim.</p>\n",
    "<p>ndarray.size - количество элементов массива. Очевидно, равно произведению всех элементов атрибута shape.</p>\n",
    "<p>ndarray.dtype - объект, описывающий тип элементов массива. Можно определить dtype, используя стандартные типы данных Python. NumPy здесь предоставляет целый букет возможностей, как встроенных, например: bool_, character, int8, int16, int32, int64, float8, float16, float32, float64, complex64, object_, так и возможность определить собственные типы данных, в том числе и составные.</p>\n",
    "<p>ndarray.itemsize - размер каждого элемента массива в байтах.</p>\n",
    "<p>ndarray.data - буфер, содержащий фактические элементы массива. Обычно не нужно использовать этот атрибут, так как обращаться к элементам массива проще всего с помощью индексов.</p>\n",
    "\n",
    "Подробнее о массивах в NumPy можно найти в официальной документации https://numpy.org/doc/stable/user/absolute_beginners.html \n"
   ]
  },
  {
   "cell_type": "markdown",
   "id": "dense-dylan",
   "metadata": {},
   "source": [
    "#### 1.2.1 Пример"
   ]
  },
  {
   "cell_type": "markdown",
   "id": "atmospheric-envelope",
   "metadata": {},
   "source": [
    "##### Решение"
   ]
  },
  {
   "cell_type": "code",
   "execution_count": 5,
   "id": "talented-judge",
   "metadata": {},
   "outputs": [
    {
     "name": "stdout",
     "output_type": "stream",
     "text": [
      "[[ 1  2]\n",
      " [ 3  4]\n",
      " [ 5  6]\n",
      " [ 7  8]\n",
      " [ 9 10]]\n",
      "8\n",
      "[3 4]\n"
     ]
    }
   ],
   "source": [
    "import numpy as np\n",
    "x = np.array([[1, 2], [3, 4], [5, 6], [7, 8], [9, 10]])\n",
    "print(x)\n",
    "print(x[3][1])\n",
    "print(x[1])"
   ]
  },
  {
   "cell_type": "markdown",
   "id": "harmful-inclusion",
   "metadata": {},
   "source": [
    "#### 1.2.2 Пример"
   ]
  },
  {
   "cell_type": "markdown",
   "id": "illegal-vietnam",
   "metadata": {},
   "source": [
    "##### Решение"
   ]
  },
  {
   "cell_type": "code",
   "execution_count": 2,
   "id": "portuguese-engineer",
   "metadata": {},
   "outputs": [
    {
     "name": "stdout",
     "output_type": "stream",
     "text": [
      "[0. 0. 0. 0. 0. 0. 0. 0. 0. 0.] \n",
      " [1. 1. 1. 1. 1. 1. 1. 1. 1. 1.] \n",
      " [5 5 5 5 5 5 5 5 5 5] \n",
      " [10 11 12 13 14 15 16 17 18 19]\n"
     ]
    }
   ],
   "source": [
    "a = np.zeros(10)\n",
    "b = np.ones(10)\n",
    "c = np.full(10, 5)\n",
    "d = np.arange(10, 20)\n",
    "print(a, \"\\n\", b, \"\\n\", c, \"\\n\", d)"
   ]
  },
  {
   "cell_type": "markdown",
   "id": "fantastic-affect",
   "metadata": {},
   "source": [
    "#### 1.2.3 Пример"
   ]
  },
  {
   "cell_type": "markdown",
   "id": "comparative-geography",
   "metadata": {},
   "source": [
    "##### Решение"
   ]
  },
  {
   "cell_type": "code",
   "execution_count": 8,
   "id": "duplicate-nursery",
   "metadata": {},
   "outputs": [
    {
     "name": "stdout",
     "output_type": "stream",
     "text": [
      "0.008204838620968324 0.9954069604371883 0.43979949973324767\n"
     ]
    }
   ],
   "source": [
    "Z = np.random.random((10, 10))\n",
    "Zmin, Zmax, Zmean = Z.min(), Z.max(), Z.mean()\n",
    "print(Zmin, Zmax, Zmean)"
   ]
  },
  {
   "cell_type": "markdown",
   "id": "streaming-douglas",
   "metadata": {},
   "source": [
    "#### 1.2.4 Пример"
   ]
  },
  {
   "cell_type": "markdown",
   "id": "light-cartridge",
   "metadata": {},
   "source": [
    "##### Решение"
   ]
  },
  {
   "cell_type": "code",
   "execution_count": 4,
   "id": "unavailable-thompson",
   "metadata": {},
   "outputs": [
    {
     "name": "stdout",
     "output_type": "stream",
     "text": [
      "[[ 5  6  7  8  9]\n",
      " [ 0  1  2  3  4]\n",
      " [10 11 12 13 14]\n",
      " [15 16 17 18 19]\n",
      " [20 21 22 23 24]]\n"
     ]
    }
   ],
   "source": [
    "A = np.arange(25).reshape(5, 5)\n",
    "A[[0, 1]] = A[[1, 0]]\n",
    "print(A)"
   ]
  },
  {
   "cell_type": "markdown",
   "id": "mechanical-friend",
   "metadata": {},
   "source": [
    "#### 1.2.5 Пример"
   ]
  },
  {
   "cell_type": "markdown",
   "id": "whole-subsection",
   "metadata": {},
   "source": [
    "##### Решение"
   ]
  },
  {
   "cell_type": "code",
   "execution_count": 5,
   "id": "authentic-smile",
   "metadata": {},
   "outputs": [
    {
     "name": "stdout",
     "output_type": "stream",
     "text": [
      "nan\n",
      "False\n",
      "False\n",
      "nan\n",
      "False\n"
     ]
    }
   ],
   "source": [
    "print(0 * np.nan)\n",
    "print(np.nan == np.nan)\n",
    "print(np.inf > np.nan)\n",
    "print(np.nan - np.nan)\n",
    "print(0.3 == 3 * 0.1)"
   ]
  },
  {
   "cell_type": "markdown",
   "id": "private-flavor",
   "metadata": {},
   "source": [
    "#### 1.2.6 Пример"
   ]
  },
  {
   "cell_type": "markdown",
   "id": "recent-reason",
   "metadata": {},
   "source": [
    "##### Решение"
   ]
  },
  {
   "cell_type": "code",
   "execution_count": 6,
   "id": "stunning-heading",
   "metadata": {},
   "outputs": [
    {
     "name": "stdout",
     "output_type": "stream",
     "text": [
      "[1 2 3 4 5 6 7 8]\n"
     ]
    }
   ],
   "source": [
    "arr = np.array([2, 1, 5, 3, 7, 4, 6, 8])\n",
    "print(np.sort(arr))"
   ]
  },
  {
   "cell_type": "markdown",
   "id": "patient-solomon",
   "metadata": {},
   "source": [
    "#### 1.3.1 Задание"
   ]
  },
  {
   "cell_type": "markdown",
   "id": "requested-specification",
   "metadata": {},
   "source": [
    "##### Решение"
   ]
  },
  {
   "cell_type": "code",
   "execution_count": 3,
   "id": "perceived-belle",
   "metadata": {},
   "outputs": [
    {
     "name": "stdout",
     "output_type": "stream",
     "text": [
      "[[0 1 0 1 0 1 0 1]\n",
      " [1 0 1 0 1 0 1 0]\n",
      " [0 1 0 1 0 1 0 1]\n",
      " [1 0 1 0 1 0 1 0]\n",
      " [0 1 0 1 0 1 0 1]\n",
      " [1 0 1 0 1 0 1 0]\n",
      " [0 1 0 1 0 1 0 1]\n",
      " [1 0 1 0 1 0 1 0]]\n"
     ]
    }
   ],
   "source": [
    "import numpy as np\n",
    "\n",
    "\n",
    "arr = np.zeros((8, 8), dtype=int)\n",
    "arr[1::2, ::2] = 1\n",
    "arr[::2, 1::2] = 1\n",
    "print(arr)"
   ]
  },
  {
   "cell_type": "markdown",
   "id": "final-expression",
   "metadata": {},
   "source": [
    "#### 1.3.2 Задание"
   ]
  },
  {
   "cell_type": "markdown",
   "id": "parallel-gauge",
   "metadata": {},
   "source": [
    "##### Решение"
   ]
  },
  {
   "cell_type": "code",
   "execution_count": 19,
   "id": "abstract-glass",
   "metadata": {},
   "outputs": [
    {
     "name": "stdout",
     "output_type": "stream",
     "text": [
      "[0 1 2 3 4]\n",
      "[0 1 2 3 4]\n",
      "[0 1 2 3 4]\n",
      "[0 1 2 3 4]\n",
      "[0 1 2 3 4]\n"
     ]
    }
   ],
   "source": [
    "arr = [np.arange(5)] * 5\n",
    "print(*arr, sep='\\n')"
   ]
  },
  {
   "cell_type": "markdown",
   "id": "organic-warehouse",
   "metadata": {},
   "source": [
    "#### 1.3.3 Задание"
   ]
  },
  {
   "cell_type": "markdown",
   "id": "intelligent-ebony",
   "metadata": {},
   "source": [
    "##### Решение"
   ]
  },
  {
   "cell_type": "code",
   "execution_count": 20,
   "id": "spare-florida",
   "metadata": {},
   "outputs": [
    {
     "name": "stdout",
     "output_type": "stream",
     "text": [
      "[[[0.70675506 0.61054612 0.03513132]\n",
      "  [0.17038303 0.48385463 0.7877788 ]\n",
      "  [0.80223017 0.66341763 0.46396786]]\n",
      "\n",
      " [[0.26159801 0.43916625 0.60671727]\n",
      "  [0.61469369 0.39806082 0.82179027]\n",
      "  [0.66616832 0.84208874 0.51699744]]\n",
      "\n",
      " [[0.11782882 0.15942282 0.77148903]\n",
      "  [0.30927297 0.77636585 0.82064761]\n",
      "  [0.62636379 0.81559676 0.55228503]]]\n"
     ]
    }
   ],
   "source": [
    "arr = np.random.random((3,3,3))\n",
    "print(arr)"
   ]
  },
  {
   "cell_type": "markdown",
   "id": "chicken-paraguay",
   "metadata": {},
   "source": [
    "#### 1.3.5 Задание"
   ]
  },
  {
   "cell_type": "markdown",
   "id": "altered-honduras",
   "metadata": {},
   "source": [
    "##### Решение"
   ]
  },
  {
   "cell_type": "code",
   "execution_count": 31,
   "id": "revised-pocket",
   "metadata": {},
   "outputs": [
    {
     "name": "stdout",
     "output_type": "stream",
     "text": [
      "[[1 1 1 1 1]\n",
      " [1 0 0 0 1]\n",
      " [1 0 0 0 1]\n",
      " [1 0 0 0 1]\n",
      " [1 1 1 1 1]]\n"
     ]
    }
   ],
   "source": [
    "arr = np.zeros((5, 5), dtype=int)\n",
    "arr[0, ::] = 1\n",
    "arr[::, 0] = 1\n",
    "arr[::, -1] = 1\n",
    "arr[-1, ::] = 1\n",
    "print(arr)"
   ]
  },
  {
   "cell_type": "markdown",
   "id": "artistic-invasion",
   "metadata": {},
   "source": [
    "#### 1.3.5 Задание"
   ]
  },
  {
   "cell_type": "markdown",
   "id": "young-creek",
   "metadata": {},
   "source": [
    "##### Решение"
   ]
  },
  {
   "cell_type": "code",
   "execution_count": 39,
   "id": "funded-stocks",
   "metadata": {},
   "outputs": [
    {
     "name": "stdout",
     "output_type": "stream",
     "text": [
      "[4, 4, 3, 3, 3, 3, 2, 0, 0, 0]\n"
     ]
    }
   ],
   "source": [
    "arr = list(sorted(np.random.randint(([5] * 10)), reverse=True))\n",
    "print(arr)"
   ]
  },
  {
   "cell_type": "markdown",
   "id": "preliminary-designer",
   "metadata": {},
   "source": [
    "#### 1.3.6 Задание"
   ]
  },
  {
   "cell_type": "markdown",
   "id": "broke-spread",
   "metadata": {},
   "source": [
    "##### Решение"
   ]
  },
  {
   "cell_type": "code",
   "execution_count": 42,
   "id": "intense-effect",
   "metadata": {},
   "outputs": [
    {
     "name": "stdout",
     "output_type": "stream",
     "text": [
      "(5, 5)\n",
      "25\n",
      "Квадратичная матрица\n"
     ]
    }
   ],
   "source": [
    "arr = np.zeros((5, 5))\n",
    "print(arr.shape)\n",
    "print(arr.size)\n",
    "print('Квадратичная' if len(set(arr.shape)) == 1 else 'Неквадратичная', end=' ')\n",
    "print('матрица')"
   ]
  },
  {
   "cell_type": "markdown",
   "id": "auburn-melissa",
   "metadata": {},
   "source": [
    "### Библиотека Pandas"
   ]
  },
  {
   "cell_type": "markdown",
   "id": "utility-devices",
   "metadata": {},
   "source": [
    "<p>Первым шагом в любом начинании в области машинного обучения является введение исходных данных в систему. Исходные данные могут вводиться вручную, содержаться в файле или храниться в интернете в каком-либо формате. Кроме того, часто требуется получить данные из нескольких источников.</p>\n",
    "<p>Библиотека pandas – это удобный и быстрый инструмент для работы с данными, обладающий большим функционалом. Если очень кратко, то pandas – это библиотека, которая предоставляет очень удобные с точки зрения использования инструменты для хранения данных и работе с ними.</p>\n",
    "<p>Библиотека pandas присутствует в стандартной поставке Anaconda. Если же ее там нет, то его можно установить отдельно. Для этого введите командной строке:</p>\n",
    "<div style=\"margin-left: 25px\">pip install pandas</div>\n",
    "<p>Для импорта библиотеки используйте команду:\n",
    "<div style=\"margin-left: 25px\">import pandas as pd</div></p>\n",
    "<p>Библиотека pandas предоставляет две ключевые структуры данных: Series и DataFrame.</p> \n",
    "<p><b>Series</b> – это одномерная структура данных, ее можно представить, как таблицу с одной строкой. С Series можно работать как с обычным массивом (обращаться по номеру индекса), и как с ассоциированным массивом, когда можно использовать ключ для доступа к элементам данных.</p> \n",
    "<p><b>DataFrame</b> – это двумерная структура. Идейно она очень похожа на обычную таблицу, что выражается в способе ее создания и работе с ее элементами.</p>\n"
   ]
  },
  {
   "cell_type": "markdown",
   "id": "ready-warrior",
   "metadata": {},
   "source": [
    "#### 2.2.1 Пример"
   ]
  },
  {
   "cell_type": "markdown",
   "id": "optional-thunder",
   "metadata": {},
   "source": [
    "##### Решение"
   ]
  },
  {
   "cell_type": "code",
   "execution_count": 4,
   "id": "chronic-generic",
   "metadata": {},
   "outputs": [
    {
     "name": "stdout",
     "output_type": "stream",
     "text": [
      "0    1\n",
      "1    2\n",
      "2    3\n",
      "3    4\n",
      "4    5\n",
      "dtype: int64\n",
      "a    1\n",
      "b    2\n",
      "c    3\n",
      "dtype: int64\n",
      "a    1\n",
      "b    2\n",
      "c    3\n",
      "d    4\n",
      "e    5\n",
      "dtype: int32\n"
     ]
    }
   ],
   "source": [
    "import pandas as pd\n",
    "lst = [1, 2, 3, 4, 5]\n",
    "d = {'a': 1, 'b': 2, 'c': 3}\n",
    "ndarr = np.array([1, 2, 3, 4, 5])\n",
    "\n",
    "s1 = pd.Series(lst)\n",
    "s2 = pd.Series(d)\n",
    "s3 = pd.Series(ndarr, ['a', 'b', 'c', 'd', 'e'])\n",
    "\n",
    "print(s1)\n",
    "print(s2)\n",
    "print(s3)"
   ]
  },
  {
   "cell_type": "markdown",
   "id": "miniature-republican",
   "metadata": {},
   "source": [
    "#### 2.2.2 Пример"
   ]
  },
  {
   "cell_type": "markdown",
   "id": "adjusted-arabic",
   "metadata": {},
   "source": [
    "##### Решение"
   ]
  },
  {
   "cell_type": "code",
   "execution_count": 44,
   "id": "given-vitamin",
   "metadata": {},
   "outputs": [
    {
     "name": "stdout",
     "output_type": "stream",
     "text": [
      "1\n",
      "5\n",
      "3    2\n",
      "4    1\n",
      "dtype: int64\n"
     ]
    }
   ],
   "source": [
    "s1 = pd.Series([1, 2, 3, 4, 5], ['a', 'b', 'c', 'd', 'e'])\n",
    "s2 = pd.Series([5, 4, 3, 2, 1])\n",
    "print(s1['a'])\n",
    "print(s2[0])\n",
    "print(s2[3:])"
   ]
  },
  {
   "cell_type": "markdown",
   "id": "political-doctrine",
   "metadata": {},
   "source": [
    "#### 2.2.3 Пример"
   ]
  },
  {
   "cell_type": "markdown",
   "id": "powerful-carnival",
   "metadata": {},
   "source": [
    "##### Решение"
   ]
  },
  {
   "cell_type": "code",
   "execution_count": 6,
   "id": "aboriginal-crawford",
   "metadata": {},
   "outputs": [
    {
     "data": {
      "text/html": [
       "<div>\n",
       "<style scoped>\n",
       "    .dataframe tbody tr th:only-of-type {\n",
       "        vertical-align: middle;\n",
       "    }\n",
       "\n",
       "    .dataframe tbody tr th {\n",
       "        vertical-align: top;\n",
       "    }\n",
       "\n",
       "    .dataframe thead th {\n",
       "        text-align: right;\n",
       "    }\n",
       "</style>\n",
       "<table border=\"1\" class=\"dataframe\">\n",
       "  <thead>\n",
       "    <tr style=\"text-align: right;\">\n",
       "      <th></th>\n",
       "      <th>Имя</th>\n",
       "      <th>Возраст</th>\n",
       "      <th>Водитель</th>\n",
       "    </tr>\n",
       "  </thead>\n",
       "  <tbody>\n",
       "    <tr>\n",
       "      <th>0</th>\n",
       "      <td>Джеки Джексон</td>\n",
       "      <td>38</td>\n",
       "      <td>True</td>\n",
       "    </tr>\n",
       "    <tr>\n",
       "      <th>1</th>\n",
       "      <td>Стивен Стивенсон</td>\n",
       "      <td>25</td>\n",
       "      <td>False</td>\n",
       "    </tr>\n",
       "  </tbody>\n",
       "</table>\n",
       "</div>"
      ],
      "text/plain": [
       "                Имя  Возраст  Водитель\n",
       "0     Джеки Джексон       38      True\n",
       "1  Стивен Стивенсон       25     False"
      ]
     },
     "execution_count": 6,
     "metadata": {},
     "output_type": "execute_result"
    }
   ],
   "source": [
    "dataframe = pd.DataFrame()\n",
    "dataframe['Имя'] = ['Джеки Джексон', 'Стивен Стивенсон']\n",
    "dataframe['Возраст'] = [38, 25]\n",
    "dataframe['Водитель'] = [True, False]\n",
    "dataframe"
   ]
  },
  {
   "cell_type": "markdown",
   "id": "composite-updating",
   "metadata": {},
   "source": [
    "#### 2.2.4 Пример"
   ]
  },
  {
   "cell_type": "markdown",
   "id": "horizontal-future",
   "metadata": {},
   "source": [
    "##### Решение"
   ]
  },
  {
   "cell_type": "code",
   "execution_count": 8,
   "id": "public-strike",
   "metadata": {},
   "outputs": [
    {
     "data": {
      "text/html": [
       "<div>\n",
       "<style scoped>\n",
       "    .dataframe tbody tr th:only-of-type {\n",
       "        vertical-align: middle;\n",
       "    }\n",
       "\n",
       "    .dataframe tbody tr th {\n",
       "        vertical-align: top;\n",
       "    }\n",
       "\n",
       "    .dataframe thead th {\n",
       "        text-align: right;\n",
       "    }\n",
       "</style>\n",
       "<table border=\"1\" class=\"dataframe\">\n",
       "  <thead>\n",
       "    <tr style=\"text-align: right;\">\n",
       "      <th></th>\n",
       "      <th>Name</th>\n",
       "      <th>PClass</th>\n",
       "      <th>Age</th>\n",
       "      <th>Sex</th>\n",
       "      <th>Survived</th>\n",
       "      <th>SexCode</th>\n",
       "    </tr>\n",
       "  </thead>\n",
       "  <tbody>\n",
       "    <tr>\n",
       "      <th>0</th>\n",
       "      <td>Allen, Miss Elisabeth Walton</td>\n",
       "      <td>1st</td>\n",
       "      <td>29.00</td>\n",
       "      <td>female</td>\n",
       "      <td>1</td>\n",
       "      <td>1</td>\n",
       "    </tr>\n",
       "    <tr>\n",
       "      <th>1</th>\n",
       "      <td>Allison, Miss Helen Loraine</td>\n",
       "      <td>1st</td>\n",
       "      <td>2.00</td>\n",
       "      <td>female</td>\n",
       "      <td>0</td>\n",
       "      <td>1</td>\n",
       "    </tr>\n",
       "    <tr>\n",
       "      <th>2</th>\n",
       "      <td>Allison, Mr Hudson Joshua Creighton</td>\n",
       "      <td>1st</td>\n",
       "      <td>30.00</td>\n",
       "      <td>male</td>\n",
       "      <td>0</td>\n",
       "      <td>0</td>\n",
       "    </tr>\n",
       "    <tr>\n",
       "      <th>3</th>\n",
       "      <td>Allison, Mrs Hudson JC (Bessie Waldo Daniels)</td>\n",
       "      <td>1st</td>\n",
       "      <td>25.00</td>\n",
       "      <td>female</td>\n",
       "      <td>0</td>\n",
       "      <td>1</td>\n",
       "    </tr>\n",
       "    <tr>\n",
       "      <th>4</th>\n",
       "      <td>Allison, Master Hudson Trevor</td>\n",
       "      <td>1st</td>\n",
       "      <td>0.92</td>\n",
       "      <td>male</td>\n",
       "      <td>1</td>\n",
       "      <td>0</td>\n",
       "    </tr>\n",
       "  </tbody>\n",
       "</table>\n",
       "</div>"
      ],
      "text/plain": [
       "                                            Name PClass    Age     Sex  \\\n",
       "0                   Allen, Miss Elisabeth Walton    1st  29.00  female   \n",
       "1                    Allison, Miss Helen Loraine    1st   2.00  female   \n",
       "2            Allison, Mr Hudson Joshua Creighton    1st  30.00    male   \n",
       "3  Allison, Mrs Hudson JC (Bessie Waldo Daniels)    1st  25.00  female   \n",
       "4                  Allison, Master Hudson Trevor    1st   0.92    male   \n",
       "\n",
       "   Survived  SexCode  \n",
       "0         1        1  \n",
       "1         0        1  \n",
       "2         0        0  \n",
       "3         0        1  \n",
       "4         1        0  "
      ]
     },
     "execution_count": 8,
     "metadata": {},
     "output_type": "execute_result"
    }
   ],
   "source": [
    "url = 'https://raw.githubusercontent.com/chrisalbon/simulated_datasets/master/titanic.csv'\n",
    "dataframe = pd.read_csv(url)\n",
    "dataframe.head(5)"
   ]
  },
  {
   "cell_type": "markdown",
   "id": "headed-jurisdiction",
   "metadata": {},
   "source": [
    "#### 2.2.5 Пример"
   ]
  },
  {
   "cell_type": "markdown",
   "id": "young-projector",
   "metadata": {},
   "source": [
    "##### Решение"
   ]
  },
  {
   "cell_type": "markdown",
   "id": "funded-blond",
   "metadata": {},
   "source": [
    "Одна из самых простых вещей, которые мы можем сделать после загрузки данных, – это взглянуть на первые несколько строк с помощью метода head. На последние строки можно посмотреть с помощью функции tail. Мы также можем взглянуть на количество строк и столбцов: dataframe.shape. Кроме того, используя метод describe, мы можем получить описательную статистику для любых числовых столбцов."
   ]
  },
  {
   "cell_type": "code",
   "execution_count": 14,
   "id": "stunning-prince",
   "metadata": {},
   "outputs": [
    {
     "name": "stdout",
     "output_type": "stream",
     "text": [
      "(1313, 6)\n"
     ]
    },
    {
     "data": {
      "text/html": [
       "<div>\n",
       "<style scoped>\n",
       "    .dataframe tbody tr th:only-of-type {\n",
       "        vertical-align: middle;\n",
       "    }\n",
       "\n",
       "    .dataframe tbody tr th {\n",
       "        vertical-align: top;\n",
       "    }\n",
       "\n",
       "    .dataframe thead th {\n",
       "        text-align: right;\n",
       "    }\n",
       "</style>\n",
       "<table border=\"1\" class=\"dataframe\">\n",
       "  <thead>\n",
       "    <tr style=\"text-align: right;\">\n",
       "      <th></th>\n",
       "      <th>Age</th>\n",
       "      <th>Survived</th>\n",
       "      <th>SexCode</th>\n",
       "    </tr>\n",
       "  </thead>\n",
       "  <tbody>\n",
       "    <tr>\n",
       "      <th>count</th>\n",
       "      <td>756.000000</td>\n",
       "      <td>1313.000000</td>\n",
       "      <td>1313.000000</td>\n",
       "    </tr>\n",
       "    <tr>\n",
       "      <th>mean</th>\n",
       "      <td>30.397989</td>\n",
       "      <td>0.342727</td>\n",
       "      <td>0.351866</td>\n",
       "    </tr>\n",
       "    <tr>\n",
       "      <th>std</th>\n",
       "      <td>14.259049</td>\n",
       "      <td>0.474802</td>\n",
       "      <td>0.477734</td>\n",
       "    </tr>\n",
       "    <tr>\n",
       "      <th>min</th>\n",
       "      <td>0.170000</td>\n",
       "      <td>0.000000</td>\n",
       "      <td>0.000000</td>\n",
       "    </tr>\n",
       "    <tr>\n",
       "      <th>25%</th>\n",
       "      <td>21.000000</td>\n",
       "      <td>0.000000</td>\n",
       "      <td>0.000000</td>\n",
       "    </tr>\n",
       "    <tr>\n",
       "      <th>50%</th>\n",
       "      <td>28.000000</td>\n",
       "      <td>0.000000</td>\n",
       "      <td>0.000000</td>\n",
       "    </tr>\n",
       "    <tr>\n",
       "      <th>75%</th>\n",
       "      <td>39.000000</td>\n",
       "      <td>1.000000</td>\n",
       "      <td>1.000000</td>\n",
       "    </tr>\n",
       "    <tr>\n",
       "      <th>max</th>\n",
       "      <td>71.000000</td>\n",
       "      <td>1.000000</td>\n",
       "      <td>1.000000</td>\n",
       "    </tr>\n",
       "  </tbody>\n",
       "</table>\n",
       "</div>"
      ],
      "text/plain": [
       "              Age     Survived      SexCode\n",
       "count  756.000000  1313.000000  1313.000000\n",
       "mean    30.397989     0.342727     0.351866\n",
       "std     14.259049     0.474802     0.477734\n",
       "min      0.170000     0.000000     0.000000\n",
       "25%     21.000000     0.000000     0.000000\n",
       "50%     28.000000     0.000000     0.000000\n",
       "75%     39.000000     1.000000     1.000000\n",
       "max     71.000000     1.000000     1.000000"
      ]
     },
     "execution_count": 14,
     "metadata": {},
     "output_type": "execute_result"
    }
   ],
   "source": [
    "dataframe.head(2)\n",
    "dataframe.tail(3)\n",
    "print(dataframe.shape)\n",
    "dataframe.describe()"
   ]
  },
  {
   "cell_type": "code",
   "execution_count": 15,
   "id": "88f8548e",
   "metadata": {},
   "outputs": [
    {
     "data": {
      "text/html": [
       "<div>\n",
       "<style scoped>\n",
       "    .dataframe tbody tr th:only-of-type {\n",
       "        vertical-align: middle;\n",
       "    }\n",
       "\n",
       "    .dataframe tbody tr th {\n",
       "        vertical-align: top;\n",
       "    }\n",
       "\n",
       "    .dataframe thead th {\n",
       "        text-align: right;\n",
       "    }\n",
       "</style>\n",
       "<table border=\"1\" class=\"dataframe\">\n",
       "  <thead>\n",
       "    <tr style=\"text-align: right;\">\n",
       "      <th></th>\n",
       "      <th>Name</th>\n",
       "      <th>PClass</th>\n",
       "      <th>Age</th>\n",
       "      <th>Sex</th>\n",
       "      <th>Survived</th>\n",
       "      <th>SexCode</th>\n",
       "    </tr>\n",
       "  </thead>\n",
       "  <tbody>\n",
       "    <tr>\n",
       "      <th>0</th>\n",
       "      <td>Allen, Miss Elisabeth Walton</td>\n",
       "      <td>1st</td>\n",
       "      <td>29.00</td>\n",
       "      <td>female</td>\n",
       "      <td>1</td>\n",
       "      <td>1</td>\n",
       "    </tr>\n",
       "    <tr>\n",
       "      <th>1</th>\n",
       "      <td>Allison, Miss Helen Loraine</td>\n",
       "      <td>1st</td>\n",
       "      <td>2.00</td>\n",
       "      <td>female</td>\n",
       "      <td>0</td>\n",
       "      <td>1</td>\n",
       "    </tr>\n",
       "    <tr>\n",
       "      <th>2</th>\n",
       "      <td>Allison, Mr Hudson Joshua Creighton</td>\n",
       "      <td>1st</td>\n",
       "      <td>30.00</td>\n",
       "      <td>male</td>\n",
       "      <td>0</td>\n",
       "      <td>0</td>\n",
       "    </tr>\n",
       "    <tr>\n",
       "      <th>3</th>\n",
       "      <td>Allison, Mrs Hudson JC (Bessie Waldo Daniels)</td>\n",
       "      <td>1st</td>\n",
       "      <td>25.00</td>\n",
       "      <td>female</td>\n",
       "      <td>0</td>\n",
       "      <td>1</td>\n",
       "    </tr>\n",
       "    <tr>\n",
       "      <th>4</th>\n",
       "      <td>Allison, Master Hudson Trevor</td>\n",
       "      <td>1st</td>\n",
       "      <td>0.92</td>\n",
       "      <td>male</td>\n",
       "      <td>1</td>\n",
       "      <td>0</td>\n",
       "    </tr>\n",
       "    <tr>\n",
       "      <th>5</th>\n",
       "      <td>Anderson, Mr Harry</td>\n",
       "      <td>1st</td>\n",
       "      <td>47.00</td>\n",
       "      <td>male</td>\n",
       "      <td>1</td>\n",
       "      <td>0</td>\n",
       "    </tr>\n",
       "    <tr>\n",
       "      <th>6</th>\n",
       "      <td>Andrews, Miss Kornelia Theodosia</td>\n",
       "      <td>1st</td>\n",
       "      <td>63.00</td>\n",
       "      <td>female</td>\n",
       "      <td>1</td>\n",
       "      <td>1</td>\n",
       "    </tr>\n",
       "    <tr>\n",
       "      <th>7</th>\n",
       "      <td>Andrews, Mr Thomas, jr</td>\n",
       "      <td>1st</td>\n",
       "      <td>39.00</td>\n",
       "      <td>male</td>\n",
       "      <td>0</td>\n",
       "      <td>0</td>\n",
       "    </tr>\n",
       "    <tr>\n",
       "      <th>8</th>\n",
       "      <td>Appleton, Mrs Edward Dale (Charlotte Lamson)</td>\n",
       "      <td>1st</td>\n",
       "      <td>58.00</td>\n",
       "      <td>female</td>\n",
       "      <td>1</td>\n",
       "      <td>1</td>\n",
       "    </tr>\n",
       "    <tr>\n",
       "      <th>9</th>\n",
       "      <td>Artagaveytia, Mr Ramon</td>\n",
       "      <td>1st</td>\n",
       "      <td>71.00</td>\n",
       "      <td>male</td>\n",
       "      <td>0</td>\n",
       "      <td>0</td>\n",
       "    </tr>\n",
       "    <tr>\n",
       "      <th>10</th>\n",
       "      <td>Astor, Colonel John Jacob</td>\n",
       "      <td>1st</td>\n",
       "      <td>47.00</td>\n",
       "      <td>male</td>\n",
       "      <td>0</td>\n",
       "      <td>0</td>\n",
       "    </tr>\n",
       "    <tr>\n",
       "      <th>11</th>\n",
       "      <td>Astor, Mrs John Jacob (Madeleine Talmadge Force)</td>\n",
       "      <td>1st</td>\n",
       "      <td>19.00</td>\n",
       "      <td>female</td>\n",
       "      <td>1</td>\n",
       "      <td>1</td>\n",
       "    </tr>\n",
       "    <tr>\n",
       "      <th>12</th>\n",
       "      <td>Aubert, Mrs Leontine Pauline</td>\n",
       "      <td>1st</td>\n",
       "      <td>NaN</td>\n",
       "      <td>female</td>\n",
       "      <td>1</td>\n",
       "      <td>1</td>\n",
       "    </tr>\n",
       "    <tr>\n",
       "      <th>13</th>\n",
       "      <td>Barkworth, Mr Algernon H</td>\n",
       "      <td>1st</td>\n",
       "      <td>NaN</td>\n",
       "      <td>male</td>\n",
       "      <td>1</td>\n",
       "      <td>0</td>\n",
       "    </tr>\n",
       "    <tr>\n",
       "      <th>14</th>\n",
       "      <td>Baumann, Mr John D</td>\n",
       "      <td>1st</td>\n",
       "      <td>NaN</td>\n",
       "      <td>male</td>\n",
       "      <td>0</td>\n",
       "      <td>0</td>\n",
       "    </tr>\n",
       "    <tr>\n",
       "      <th>15</th>\n",
       "      <td>Baxter, Mrs James (Helene DeLaudeniere Chaput)</td>\n",
       "      <td>1st</td>\n",
       "      <td>50.00</td>\n",
       "      <td>female</td>\n",
       "      <td>1</td>\n",
       "      <td>1</td>\n",
       "    </tr>\n",
       "    <tr>\n",
       "      <th>16</th>\n",
       "      <td>Baxter, Mr Quigg Edmond</td>\n",
       "      <td>1st</td>\n",
       "      <td>24.00</td>\n",
       "      <td>male</td>\n",
       "      <td>0</td>\n",
       "      <td>0</td>\n",
       "    </tr>\n",
       "    <tr>\n",
       "      <th>17</th>\n",
       "      <td>Beattie, Mr Thomson</td>\n",
       "      <td>1st</td>\n",
       "      <td>36.00</td>\n",
       "      <td>male</td>\n",
       "      <td>0</td>\n",
       "      <td>0</td>\n",
       "    </tr>\n",
       "    <tr>\n",
       "      <th>18</th>\n",
       "      <td>Beckwith, Mr Richard Leonard</td>\n",
       "      <td>1st</td>\n",
       "      <td>37.00</td>\n",
       "      <td>male</td>\n",
       "      <td>1</td>\n",
       "      <td>0</td>\n",
       "    </tr>\n",
       "    <tr>\n",
       "      <th>19</th>\n",
       "      <td>Beckwith, Mrs Richard Leonard (Sallie Monypeny)</td>\n",
       "      <td>1st</td>\n",
       "      <td>47.00</td>\n",
       "      <td>female</td>\n",
       "      <td>1</td>\n",
       "      <td>1</td>\n",
       "    </tr>\n",
       "  </tbody>\n",
       "</table>\n",
       "</div>"
      ],
      "text/plain": [
       "                                                Name PClass    Age     Sex  \\\n",
       "0                       Allen, Miss Elisabeth Walton    1st  29.00  female   \n",
       "1                        Allison, Miss Helen Loraine    1st   2.00  female   \n",
       "2                Allison, Mr Hudson Joshua Creighton    1st  30.00    male   \n",
       "3      Allison, Mrs Hudson JC (Bessie Waldo Daniels)    1st  25.00  female   \n",
       "4                      Allison, Master Hudson Trevor    1st   0.92    male   \n",
       "5                                 Anderson, Mr Harry    1st  47.00    male   \n",
       "6                   Andrews, Miss Kornelia Theodosia    1st  63.00  female   \n",
       "7                             Andrews, Mr Thomas, jr    1st  39.00    male   \n",
       "8       Appleton, Mrs Edward Dale (Charlotte Lamson)    1st  58.00  female   \n",
       "9                             Artagaveytia, Mr Ramon    1st  71.00    male   \n",
       "10                         Astor, Colonel John Jacob    1st  47.00    male   \n",
       "11  Astor, Mrs John Jacob (Madeleine Talmadge Force)    1st  19.00  female   \n",
       "12                      Aubert, Mrs Leontine Pauline    1st    NaN  female   \n",
       "13                          Barkworth, Mr Algernon H    1st    NaN    male   \n",
       "14                                Baumann, Mr John D    1st    NaN    male   \n",
       "15    Baxter, Mrs James (Helene DeLaudeniere Chaput)    1st  50.00  female   \n",
       "16                           Baxter, Mr Quigg Edmond    1st  24.00    male   \n",
       "17                               Beattie, Mr Thomson    1st  36.00    male   \n",
       "18                      Beckwith, Mr Richard Leonard    1st  37.00    male   \n",
       "19   Beckwith, Mrs Richard Leonard (Sallie Monypeny)    1st  47.00  female   \n",
       "\n",
       "    Survived  SexCode  \n",
       "0          1        1  \n",
       "1          0        1  \n",
       "2          0        0  \n",
       "3          0        1  \n",
       "4          1        0  \n",
       "5          1        0  \n",
       "6          1        1  \n",
       "7          0        0  \n",
       "8          1        1  \n",
       "9          0        0  \n",
       "10         0        0  \n",
       "11         1        1  \n",
       "12         1        1  \n",
       "13         1        0  \n",
       "14         0        0  \n",
       "15         1        1  \n",
       "16         0        0  \n",
       "17         0        0  \n",
       "18         1        0  \n",
       "19         1        1  "
      ]
     },
     "execution_count": 15,
     "metadata": {},
     "output_type": "execute_result"
    }
   ],
   "source": [
    "dataframe.head(20)"
   ]
  },
  {
   "cell_type": "code",
   "execution_count": 16,
   "id": "f8b1f591",
   "metadata": {},
   "outputs": [
    {
     "data": {
      "text/plain": [
       "28.0"
      ]
     },
     "execution_count": 16,
     "metadata": {},
     "output_type": "execute_result"
    }
   ],
   "source": [
    "dataframe['Age'].median()"
   ]
  },
  {
   "cell_type": "code",
   "execution_count": 18,
   "id": "8c8da78d",
   "metadata": {},
   "outputs": [
    {
     "data": {
      "text/html": [
       "<div>\n",
       "<style scoped>\n",
       "    .dataframe tbody tr th:only-of-type {\n",
       "        vertical-align: middle;\n",
       "    }\n",
       "\n",
       "    .dataframe tbody tr th {\n",
       "        vertical-align: top;\n",
       "    }\n",
       "\n",
       "    .dataframe thead th {\n",
       "        text-align: right;\n",
       "    }\n",
       "</style>\n",
       "<table border=\"1\" class=\"dataframe\">\n",
       "  <thead>\n",
       "    <tr style=\"text-align: right;\">\n",
       "      <th></th>\n",
       "      <th>Age</th>\n",
       "      <th>Survived</th>\n",
       "      <th>SexCode</th>\n",
       "    </tr>\n",
       "  </thead>\n",
       "  <tbody>\n",
       "    <tr>\n",
       "      <th>count</th>\n",
       "      <td>1313.000000</td>\n",
       "      <td>1313.000000</td>\n",
       "      <td>1313.000000</td>\n",
       "    </tr>\n",
       "    <tr>\n",
       "      <th>mean</th>\n",
       "      <td>29.380716</td>\n",
       "      <td>0.342727</td>\n",
       "      <td>0.351866</td>\n",
       "    </tr>\n",
       "    <tr>\n",
       "      <th>std</th>\n",
       "      <td>10.881539</td>\n",
       "      <td>0.474802</td>\n",
       "      <td>0.477734</td>\n",
       "    </tr>\n",
       "    <tr>\n",
       "      <th>min</th>\n",
       "      <td>0.170000</td>\n",
       "      <td>0.000000</td>\n",
       "      <td>0.000000</td>\n",
       "    </tr>\n",
       "    <tr>\n",
       "      <th>25%</th>\n",
       "      <td>26.000000</td>\n",
       "      <td>0.000000</td>\n",
       "      <td>0.000000</td>\n",
       "    </tr>\n",
       "    <tr>\n",
       "      <th>50%</th>\n",
       "      <td>28.000000</td>\n",
       "      <td>0.000000</td>\n",
       "      <td>0.000000</td>\n",
       "    </tr>\n",
       "    <tr>\n",
       "      <th>75%</th>\n",
       "      <td>30.000000</td>\n",
       "      <td>1.000000</td>\n",
       "      <td>1.000000</td>\n",
       "    </tr>\n",
       "    <tr>\n",
       "      <th>max</th>\n",
       "      <td>71.000000</td>\n",
       "      <td>1.000000</td>\n",
       "      <td>1.000000</td>\n",
       "    </tr>\n",
       "  </tbody>\n",
       "</table>\n",
       "</div>"
      ],
      "text/plain": [
       "               Age     Survived      SexCode\n",
       "count  1313.000000  1313.000000  1313.000000\n",
       "mean     29.380716     0.342727     0.351866\n",
       "std      10.881539     0.474802     0.477734\n",
       "min       0.170000     0.000000     0.000000\n",
       "25%      26.000000     0.000000     0.000000\n",
       "50%      28.000000     0.000000     0.000000\n",
       "75%      30.000000     1.000000     1.000000\n",
       "max      71.000000     1.000000     1.000000"
      ]
     },
     "execution_count": 18,
     "metadata": {},
     "output_type": "execute_result"
    }
   ],
   "source": [
    "dataframe['Age'] = dataframe['Age'].fillna(28.0)\n",
    "dataframe.describe()"
   ]
  },
  {
   "cell_type": "markdown",
   "id": "settled-distinction",
   "metadata": {},
   "source": [
    "Более подробно с возможностями работы с фреймами данных можно узнать по ссылке ниже:  https://pandas.pydata.org/docs/reference/api/pandas.DataFrame.html"
   ]
  },
  {
   "cell_type": "markdown",
   "id": "fuzzy-potter",
   "metadata": {},
   "source": [
    "#### 2.2.6 Пример"
   ]
  },
  {
   "cell_type": "markdown",
   "id": "statewide-xerox",
   "metadata": {},
   "source": [
    "##### Решение"
   ]
  },
  {
   "cell_type": "markdown",
   "id": "infrared-electronics",
   "metadata": {},
   "source": [
    "Для выбора одной или нескольких строк, либо значений, можно использовать методы 1ос или iloc."
   ]
  },
  {
   "cell_type": "code",
   "execution_count": 10,
   "id": "straight-ottawa",
   "metadata": {},
   "outputs": [
    {
     "data": {
      "text/html": [
       "<div>\n",
       "<style scoped>\n",
       "    .dataframe tbody tr th:only-of-type {\n",
       "        vertical-align: middle;\n",
       "    }\n",
       "\n",
       "    .dataframe tbody tr th {\n",
       "        vertical-align: top;\n",
       "    }\n",
       "\n",
       "    .dataframe thead th {\n",
       "        text-align: right;\n",
       "    }\n",
       "</style>\n",
       "<table border=\"1\" class=\"dataframe\">\n",
       "  <thead>\n",
       "    <tr style=\"text-align: right;\">\n",
       "      <th></th>\n",
       "      <th>Name</th>\n",
       "      <th>PClass</th>\n",
       "      <th>Age</th>\n",
       "      <th>Sex</th>\n",
       "      <th>Survived</th>\n",
       "      <th>SexCode</th>\n",
       "    </tr>\n",
       "  </thead>\n",
       "  <tbody>\n",
       "    <tr>\n",
       "      <th>1</th>\n",
       "      <td>Allison, Miss Helen Loraine</td>\n",
       "      <td>1st</td>\n",
       "      <td>2.0</td>\n",
       "      <td>female</td>\n",
       "      <td>0</td>\n",
       "      <td>1</td>\n",
       "    </tr>\n",
       "    <tr>\n",
       "      <th>2</th>\n",
       "      <td>Allison, Mr Hudson Joshua Creighton</td>\n",
       "      <td>1st</td>\n",
       "      <td>30.0</td>\n",
       "      <td>male</td>\n",
       "      <td>0</td>\n",
       "      <td>0</td>\n",
       "    </tr>\n",
       "    <tr>\n",
       "      <th>3</th>\n",
       "      <td>Allison, Mrs Hudson JC (Bessie Waldo Daniels)</td>\n",
       "      <td>1st</td>\n",
       "      <td>25.0</td>\n",
       "      <td>female</td>\n",
       "      <td>0</td>\n",
       "      <td>1</td>\n",
       "    </tr>\n",
       "  </tbody>\n",
       "</table>\n",
       "</div>"
      ],
      "text/plain": [
       "                                            Name PClass   Age     Sex  \\\n",
       "1                    Allison, Miss Helen Loraine    1st   2.0  female   \n",
       "2            Allison, Mr Hudson Joshua Creighton    1st  30.0    male   \n",
       "3  Allison, Mrs Hudson JC (Bessie Waldo Daniels)    1st  25.0  female   \n",
       "\n",
       "   Survived  SexCode  \n",
       "1         0        1  \n",
       "2         0        0  \n",
       "3         0        1  "
      ]
     },
     "execution_count": 10,
     "metadata": {},
     "output_type": "execute_result"
    }
   ],
   "source": [
    "dataframe.iloc[1:4]"
   ]
  },
  {
   "cell_type": "markdown",
   "id": "interesting-moscow",
   "metadata": {},
   "source": [
    "#### 2.2.7 Пример"
   ]
  },
  {
   "cell_type": "markdown",
   "id": "graphic-attribute",
   "metadata": {},
   "source": [
    "##### Решение"
   ]
  },
  {
   "cell_type": "code",
   "execution_count": 11,
   "id": "juvenile-cedar",
   "metadata": {},
   "outputs": [
    {
     "data": {
      "text/html": [
       "<div>\n",
       "<style scoped>\n",
       "    .dataframe tbody tr th:only-of-type {\n",
       "        vertical-align: middle;\n",
       "    }\n",
       "\n",
       "    .dataframe tbody tr th {\n",
       "        vertical-align: top;\n",
       "    }\n",
       "\n",
       "    .dataframe thead th {\n",
       "        text-align: right;\n",
       "    }\n",
       "</style>\n",
       "<table border=\"1\" class=\"dataframe\">\n",
       "  <thead>\n",
       "    <tr style=\"text-align: right;\">\n",
       "      <th></th>\n",
       "      <th>Name</th>\n",
       "      <th>PClass</th>\n",
       "      <th>Age</th>\n",
       "      <th>Sex</th>\n",
       "      <th>Survived</th>\n",
       "      <th>SexCode</th>\n",
       "    </tr>\n",
       "  </thead>\n",
       "  <tbody>\n",
       "    <tr>\n",
       "      <th>0</th>\n",
       "      <td>Allen, Miss Elisabeth Walton</td>\n",
       "      <td>1st</td>\n",
       "      <td>29.0</td>\n",
       "      <td>female</td>\n",
       "      <td>1</td>\n",
       "      <td>1</td>\n",
       "    </tr>\n",
       "    <tr>\n",
       "      <th>1</th>\n",
       "      <td>Allison, Miss Helen Loraine</td>\n",
       "      <td>1st</td>\n",
       "      <td>2.0</td>\n",
       "      <td>female</td>\n",
       "      <td>0</td>\n",
       "      <td>1</td>\n",
       "    </tr>\n",
       "  </tbody>\n",
       "</table>\n",
       "</div>"
      ],
      "text/plain": [
       "                           Name PClass   Age     Sex  Survived  SexCode\n",
       "0  Allen, Miss Elisabeth Walton    1st  29.0  female         1        1\n",
       "1   Allison, Miss Helen Loraine    1st   2.0  female         0        1"
      ]
     },
     "execution_count": 11,
     "metadata": {},
     "output_type": "execute_result"
    }
   ],
   "source": [
    "dataframe[dataframe['PClass'] == '1st'].head(2)"
   ]
  },
  {
   "cell_type": "markdown",
   "id": "global-trade",
   "metadata": {},
   "source": [
    "#### 2.3.1 Задание"
   ]
  },
  {
   "cell_type": "markdown",
   "id": "a9161bca",
   "metadata": {},
   "source": [
    "##### Решение"
   ]
  },
  {
   "cell_type": "code",
   "execution_count": 6,
   "id": "6f3b6564",
   "metadata": {},
   "outputs": [
    {
     "name": "stdout",
     "output_type": "stream",
     "text": [
      "Первая точка: [6 3]\n",
      "Вторая точка: [4 2]\n",
      "Евклидово расстояние: 2.23606797749979\n"
     ]
    }
   ],
   "source": [
    "import numpy as np\n",
    "import pandas as pd\n",
    "from math import *\n",
    "\n",
    "a = np.random.randint((10, 10))\n",
    "b = np.random.randint((10, 10))\n",
    "print(f'Первая точка: {a}\\nВторая точка: {b}')\n",
    "\n",
    "s1 = pd.Series(a)\n",
    "s2 = pd.Series(b)\n",
    "\n",
    "dist = sqrt((s2[0] - s2[1]) ** 2 + (s2[1] - s1[1]) ** 2)\n",
    "print(f'Евклидово расстояние: {dist}')"
   ]
  },
  {
   "cell_type": "markdown",
   "id": "710bbf07",
   "metadata": {},
   "source": [
    "#### 2.3.2 Задание"
   ]
  },
  {
   "cell_type": "markdown",
   "id": "dd8fa80f",
   "metadata": {},
   "source": [
    "##### Решение"
   ]
  },
  {
   "cell_type": "code",
   "execution_count": 14,
   "id": "51404aff",
   "metadata": {},
   "outputs": [
    {
     "data": {
      "text/html": [
       "<div>\n",
       "<style scoped>\n",
       "    .dataframe tbody tr th:only-of-type {\n",
       "        vertical-align: middle;\n",
       "    }\n",
       "\n",
       "    .dataframe tbody tr th {\n",
       "        vertical-align: top;\n",
       "    }\n",
       "\n",
       "    .dataframe thead th {\n",
       "        text-align: right;\n",
       "    }\n",
       "</style>\n",
       "<table border=\"1\" class=\"dataframe\">\n",
       "  <thead>\n",
       "    <tr style=\"text-align: right;\">\n",
       "      <th></th>\n",
       "      <th>0</th>\n",
       "    </tr>\n",
       "  </thead>\n",
       "  <tbody>\n",
       "    <tr>\n",
       "      <th>0</th>\n",
       "      <td>&lt;!DOCTYPE html&gt;</td>\n",
       "    </tr>\n",
       "    <tr>\n",
       "      <th>1</th>\n",
       "      <td>&lt;html lang=\"en\" data-color-mode=\"auto\" data-li...</td>\n",
       "    </tr>\n",
       "    <tr>\n",
       "      <th>2</th>\n",
       "      <td>&lt;head&gt;</td>\n",
       "    </tr>\n",
       "    <tr>\n",
       "      <th>3</th>\n",
       "      <td>&lt;meta charset=\"utf-8\"&gt;</td>\n",
       "    </tr>\n",
       "    <tr>\n",
       "      <th>4</th>\n",
       "      <td>&lt;link rel=\"dns-prefetch\" href=\"https://github....</td>\n",
       "    </tr>\n",
       "    <tr>\n",
       "      <th>5</th>\n",
       "      <td>&lt;link rel=\"dns-prefetch\" href=\"https://avatars...</td>\n",
       "    </tr>\n",
       "  </tbody>\n",
       "</table>\n",
       "</div>"
      ],
      "text/plain": [
       "                                                   0\n",
       "0                                    <!DOCTYPE html>\n",
       "1  <html lang=\"en\" data-color-mode=\"auto\" data-li...\n",
       "2                                             <head>\n",
       "3                             <meta charset=\"utf-8\">\n",
       "4  <link rel=\"dns-prefetch\" href=\"https://github....\n",
       "5  <link rel=\"dns-prefetch\" href=\"https://avatars..."
      ]
     },
     "execution_count": 14,
     "metadata": {},
     "output_type": "execute_result"
    }
   ],
   "source": [
    "url = 'https://github.com/akmand/datasets/blob/master/australian.csv'\n",
    "dataframe = pd.read_csv(url, sep='delimiter', header=None, engine='python')\n",
    "dataframe.head(6)"
   ]
  },
  {
   "cell_type": "markdown",
   "id": "0fb468aa",
   "metadata": {},
   "source": [
    "#### 2.3.3 Задание"
   ]
  },
  {
   "cell_type": "markdown",
   "id": "86b67755",
   "metadata": {},
   "source": [
    "##### Решение"
   ]
  },
  {
   "cell_type": "code",
   "execution_count": 15,
   "id": "22f30268",
   "metadata": {},
   "outputs": [
    {
     "data": {
      "text/html": [
       "<div>\n",
       "<style scoped>\n",
       "    .dataframe tbody tr th:only-of-type {\n",
       "        vertical-align: middle;\n",
       "    }\n",
       "\n",
       "    .dataframe tbody tr th {\n",
       "        vertical-align: top;\n",
       "    }\n",
       "\n",
       "    .dataframe thead th {\n",
       "        text-align: right;\n",
       "    }\n",
       "</style>\n",
       "<table border=\"1\" class=\"dataframe\">\n",
       "  <thead>\n",
       "    <tr style=\"text-align: right;\">\n",
       "      <th></th>\n",
       "      <th>0</th>\n",
       "    </tr>\n",
       "  </thead>\n",
       "  <tbody>\n",
       "    <tr>\n",
       "      <th>0</th>\n",
       "      <td>&lt;!DOCTYPE html&gt;</td>\n",
       "    </tr>\n",
       "  </tbody>\n",
       "</table>\n",
       "</div>"
      ],
      "text/plain": [
       "                 0\n",
       "0  <!DOCTYPE html>"
      ]
     },
     "execution_count": 15,
     "metadata": {},
     "output_type": "execute_result"
    }
   ],
   "source": [
    "dataframe.head(2)\n",
    "dataframe.tail(3)\n",
    "dataframe.shape\n",
    "dataframe.describe()\n",
    "\n",
    "dataframe.iloc[1:4]\n",
    "\n",
    "dataframe[dataframe[0] == '<!DOCTYPE html>'].head(2)"
   ]
  },
  {
   "cell_type": "markdown",
   "id": "69373805",
   "metadata": {},
   "source": [
    "### 3.1 Работа с числовыми данными"
   ]
  },
  {
   "cell_type": "markdown",
   "id": "7a98dbdf",
   "metadata": {},
   "source": [
    "<p>Количественные данные что-то измеряют – будь то размер класса, ежемесячные продажи или оценки учащихся. Естественным способом представления этих величин является численным (например, 150 студентов, $529 392 продаж).</p>\n",
    "<p>Нормализация данных — это общепринятая задача предобработки в машинном обучении. Многие алгоритмы предполагают, что все признаки находятся в единой шкале, как правило, от 0 до 1 или от -1 до 1.</p> \n",
    "<p>Существует множество способов нормализации значений признаков, чтобы масштабировать их к единому диапазону и использовать в различных моделях машинного обучения. В зависимости от используемой функции, их можно разделить на 2 большие группы: линейные и нелинейные. При нелинейной нормализации в расчетных соотношениях используются функции логистической сигмоиды или гиперболического тангенса. В линейной нормализации изменение переменных осуществляется пропорционально, по линейному закону.</p>\n",
    "<p>На практике наиболее распространены следующие методы нормализации признаков:</p>\n",
    "<div style=\"margin-left: 25px\"><b>Минимакс</b>– линейное преобразование данных в диапазоне [0..1], где минимальное и максимальное масштабируемые значения соответствуют 0 и 1 соответственно;</div>\n",
    "<div style=\"margin-left: 25px\"><b>Z-масштабирование данных</b> на основе среднего значения и стандартного отклонения: производят деление разницы между переменной и средним значением на стандартное отклонение.</div>\n",
    " \n",
    "<p>При масштабировании данных мы будем использовать одну из популярных библиотек машинного обученияScikit-learn. Библиотека содержит пакет sklearn.preprocessing, который предоставляет широкие возможности для нормализации данных. Следует отметить, что в целом алгоритмы обучения выигрывают от стандартизации набора данных.</p>"
   ]
  },
  {
   "cell_type": "markdown",
   "id": "51836cec",
   "metadata": {},
   "source": [
    "#### 3.2.1 Пример"
   ]
  },
  {
   "cell_type": "markdown",
   "id": "16564561",
   "metadata": {},
   "source": [
    "##### Решение"
   ]
  },
  {
   "cell_type": "code",
   "execution_count": 16,
   "id": "9cbaa104",
   "metadata": {},
   "outputs": [
    {
     "data": {
      "text/plain": [
       "array([[0.        ],\n",
       "       [0.28571429],\n",
       "       [0.35714286],\n",
       "       [0.42857143],\n",
       "       [1.        ]])"
      ]
     },
     "execution_count": 16,
     "metadata": {},
     "output_type": "execute_result"
    }
   ],
   "source": [
    "import numpy as np\n",
    "from sklearn import preprocessing\n",
    "\n",
    "feature = np.array([[-500.5], [-100.1], [0], [100.1], [900.9]])\n",
    "\n",
    "minmax_scale = preprocessing.MinMaxScaler(feature_range = (0, 1))\n",
    "\n",
    "scaled_feature = minmax_scale.fit_transform(feature)\n",
    "\n",
    "scaled_feature"
   ]
  },
  {
   "cell_type": "code",
   "execution_count": 19,
   "id": "0f9044ab",
   "metadata": {},
   "outputs": [
    {
     "data": {
      "text/plain": [
       "array([[0.03846154],\n",
       "       [0.57692308],\n",
       "       [0.30769231],\n",
       "       [1.        ],\n",
       "       [0.        ]])"
      ]
     },
     "execution_count": 19,
     "metadata": {},
     "output_type": "execute_result"
    }
   ],
   "source": [
    "import numpy as np\n",
    "from sklearn import preprocessing\n",
    "\n",
    "feature = np.array([[20], [34], [27], [45], [19]])\n",
    "\n",
    "minmax_scale = preprocessing.MinMaxScaler(feature_range = (0, 1))\n",
    "\n",
    "scaled_feature = minmax_scale.fit_transform(feature)\n",
    "\n",
    "scaled_feature"
   ]
  },
  {
   "cell_type": "markdown",
   "id": "5f0a1191",
   "metadata": {},
   "source": [
    "#### 3.2.2 Пример"
   ]
  },
  {
   "cell_type": "markdown",
   "id": "fa77a0b0",
   "metadata": {},
   "source": [
    "##### Решение"
   ]
  },
  {
   "cell_type": "code",
   "execution_count": 17,
   "id": "ce8e567b",
   "metadata": {},
   "outputs": [
    {
     "data": {
      "text/plain": [
       "array([[-0.76058269],\n",
       "       [-0.54177196],\n",
       "       [-0.35009716],\n",
       "       [-0.32271504],\n",
       "       [ 1.97516685]])"
      ]
     },
     "execution_count": 17,
     "metadata": {},
     "output_type": "execute_result"
    }
   ],
   "source": [
    "x = np.array([[-1000.1], [-200.2], [500.5], [600.6], [9000.9]])\n",
    "\n",
    "scaler = preprocessing.StandardScaler()\n",
    "\n",
    "standardized = scaler.fit_transform(x)\n",
    "\n",
    "standardized"
   ]
  },
  {
   "cell_type": "code",
   "execution_count": 20,
   "id": "1860d296",
   "metadata": {},
   "outputs": [
    {
     "data": {
      "text/plain": [
       "array([[-0.93225464],\n",
       "       [ 0.51791924],\n",
       "       [-0.2071677 ],\n",
       "       [ 1.65734158],\n",
       "       [-1.03583849]])"
      ]
     },
     "execution_count": 20,
     "metadata": {},
     "output_type": "execute_result"
    }
   ],
   "source": [
    "x = np.array([[20], [34], [27], [45], [19]])\n",
    "\n",
    "scaler = preprocessing.StandardScaler()\n",
    "\n",
    "standardized = scaler.fit_transform(x)\n",
    "\n",
    "standardized"
   ]
  },
  {
   "cell_type": "code",
   "execution_count": 18,
   "id": "9a858d2f",
   "metadata": {},
   "outputs": [
    {
     "name": "stdout",
     "output_type": "stream",
     "text": [
      "Среднее:  0\n",
      "Стандартное отклонение:  1.0\n"
     ]
    }
   ],
   "source": [
    "print(\"Среднее: \", round(standardized.mean()))\n",
    "print(\"Стандартное отклонение: \", standardized.std())"
   ]
  },
  {
   "cell_type": "markdown",
   "id": "e84fc501",
   "metadata": {},
   "source": [
    "#### 3.2.3 Пример"
   ]
  },
  {
   "cell_type": "markdown",
   "id": "479064ca",
   "metadata": {},
   "source": [
    "##### Решение"
   ]
  },
  {
   "cell_type": "code",
   "execution_count": 3,
   "id": "e521c3d0",
   "metadata": {},
   "outputs": [
    {
     "data": {
      "text/html": [
       "<div>\n",
       "<style scoped>\n",
       "    .dataframe tbody tr th:only-of-type {\n",
       "        vertical-align: middle;\n",
       "    }\n",
       "\n",
       "    .dataframe tbody tr th {\n",
       "        vertical-align: top;\n",
       "    }\n",
       "\n",
       "    .dataframe thead th {\n",
       "        text-align: right;\n",
       "    }\n",
       "</style>\n",
       "<table border=\"1\" class=\"dataframe\">\n",
       "  <thead>\n",
       "    <tr style=\"text-align: right;\">\n",
       "      <th></th>\n",
       "      <th>A</th>\n",
       "      <th>B</th>\n",
       "      <th>C</th>\n",
       "    </tr>\n",
       "  </thead>\n",
       "  <tbody>\n",
       "    <tr>\n",
       "      <th>0</th>\n",
       "      <td>0.000000</td>\n",
       "      <td>0.000000</td>\n",
       "      <td>big</td>\n",
       "    </tr>\n",
       "    <tr>\n",
       "      <th>1</th>\n",
       "      <td>0.926219</td>\n",
       "      <td>0.363636</td>\n",
       "      <td>small</td>\n",
       "    </tr>\n",
       "    <tr>\n",
       "      <th>2</th>\n",
       "      <td>0.935335</td>\n",
       "      <td>0.628645</td>\n",
       "      <td>big</td>\n",
       "    </tr>\n",
       "    <tr>\n",
       "      <th>3</th>\n",
       "      <td>1.000000</td>\n",
       "      <td>0.961407</td>\n",
       "      <td>small</td>\n",
       "    </tr>\n",
       "    <tr>\n",
       "      <th>4</th>\n",
       "      <td>0.938495</td>\n",
       "      <td>1.000000</td>\n",
       "      <td>small</td>\n",
       "    </tr>\n",
       "  </tbody>\n",
       "</table>\n",
       "</div>"
      ],
      "text/plain": [
       "          A         B      C\n",
       "0  0.000000  0.000000    big\n",
       "1  0.926219  0.363636  small\n",
       "2  0.935335  0.628645    big\n",
       "3  1.000000  0.961407  small\n",
       "4  0.938495  1.000000  small"
      ]
     },
     "execution_count": 3,
     "metadata": {},
     "output_type": "execute_result"
    }
   ],
   "source": [
    "import pandas as pd\n",
    "from sklearn.preprocessing import MinMaxScaler\n",
    "scaler = MinMaxScaler()\n",
    "dfTest = pd.DataFrame({'A':[14.00,90.20,90.95,96.27,91.21],\n",
    "                      'B':[103.02,107.26,110.35,114.23,114.68],\n",
    "                      'C':['big', 'small', 'big', 'small', 'small']})\n",
    "\n",
    "dfTest[['A', 'B']] = scaler.fit_transform(dfTest[['A', 'B']])\n",
    "dfTest"
   ]
  },
  {
   "cell_type": "markdown",
   "id": "2d75f28b",
   "metadata": {},
   "source": [
    "#### 3.3.2 Задание"
   ]
  },
  {
   "cell_type": "markdown",
   "id": "b2f81035",
   "metadata": {},
   "source": [
    "##### Решение"
   ]
  },
  {
   "cell_type": "code",
   "execution_count": 16,
   "id": "ac3657b1",
   "metadata": {},
   "outputs": [
    {
     "name": "stdout",
     "output_type": "stream",
     "text": [
      "Минимакс преобразование:\n",
      " [[0.22222222]\n",
      " [0.16666667]\n",
      " [0.11111111]\n",
      " [0.08333333]\n",
      " [0.19444444]\n",
      " [0.30555556]\n",
      " [0.08333333]\n",
      " [0.19444444]\n",
      " [0.02777778]\n",
      " [0.16666667]\n",
      " [0.30555556]\n",
      " [0.13888889]\n",
      " [0.13888889]\n",
      " [0.        ]\n",
      " [0.41666667]\n",
      " [0.38888889]\n",
      " [0.30555556]\n",
      " [0.22222222]\n",
      " [0.38888889]\n",
      " [0.22222222]\n",
      " [0.30555556]\n",
      " [0.22222222]\n",
      " [0.08333333]\n",
      " [0.22222222]\n",
      " [0.13888889]\n",
      " [0.19444444]\n",
      " [0.19444444]\n",
      " [0.25      ]\n",
      " [0.25      ]\n",
      " [0.11111111]\n",
      " [0.13888889]\n",
      " [0.30555556]\n",
      " [0.25      ]\n",
      " [0.33333333]\n",
      " [0.16666667]\n",
      " [0.19444444]\n",
      " [0.33333333]\n",
      " [0.16666667]\n",
      " [0.02777778]\n",
      " [0.22222222]\n",
      " [0.19444444]\n",
      " [0.05555556]\n",
      " [0.02777778]\n",
      " [0.19444444]\n",
      " [0.22222222]\n",
      " [0.13888889]\n",
      " [0.22222222]\n",
      " [0.08333333]\n",
      " [0.27777778]\n",
      " [0.19444444]\n",
      " [0.75      ]\n",
      " [0.58333333]\n",
      " [0.72222222]\n",
      " [0.33333333]\n",
      " [0.61111111]\n",
      " [0.38888889]\n",
      " [0.55555556]\n",
      " [0.16666667]\n",
      " [0.63888889]\n",
      " [0.25      ]\n",
      " [0.19444444]\n",
      " [0.44444444]\n",
      " [0.47222222]\n",
      " [0.5       ]\n",
      " [0.36111111]\n",
      " [0.66666667]\n",
      " [0.36111111]\n",
      " [0.41666667]\n",
      " [0.52777778]\n",
      " [0.36111111]\n",
      " [0.44444444]\n",
      " [0.5       ]\n",
      " [0.55555556]\n",
      " [0.5       ]\n",
      " [0.58333333]\n",
      " [0.63888889]\n",
      " [0.69444444]\n",
      " [0.66666667]\n",
      " [0.47222222]\n",
      " [0.38888889]\n",
      " [0.33333333]\n",
      " [0.33333333]\n",
      " [0.41666667]\n",
      " [0.47222222]\n",
      " [0.30555556]\n",
      " [0.47222222]\n",
      " [0.66666667]\n",
      " [0.55555556]\n",
      " [0.36111111]\n",
      " [0.33333333]\n",
      " [0.33333333]\n",
      " [0.5       ]\n",
      " [0.41666667]\n",
      " [0.19444444]\n",
      " [0.36111111]\n",
      " [0.38888889]\n",
      " [0.38888889]\n",
      " [0.52777778]\n",
      " [0.22222222]\n",
      " [0.38888889]\n",
      " [0.55555556]\n",
      " [0.41666667]\n",
      " [0.77777778]\n",
      " [0.55555556]\n",
      " [0.61111111]\n",
      " [0.91666667]\n",
      " [0.16666667]\n",
      " [0.83333333]\n",
      " [0.66666667]\n",
      " [0.80555556]\n",
      " [0.61111111]\n",
      " [0.58333333]\n",
      " [0.69444444]\n",
      " [0.38888889]\n",
      " [0.41666667]\n",
      " [0.58333333]\n",
      " [0.61111111]\n",
      " [0.94444444]\n",
      " [0.94444444]\n",
      " [0.47222222]\n",
      " [0.72222222]\n",
      " [0.36111111]\n",
      " [0.94444444]\n",
      " [0.55555556]\n",
      " [0.66666667]\n",
      " [0.80555556]\n",
      " [0.52777778]\n",
      " [0.5       ]\n",
      " [0.58333333]\n",
      " [0.80555556]\n",
      " [0.86111111]\n",
      " [1.        ]\n",
      " [0.58333333]\n",
      " [0.55555556]\n",
      " [0.5       ]\n",
      " [0.94444444]\n",
      " [0.55555556]\n",
      " [0.58333333]\n",
      " [0.47222222]\n",
      " [0.72222222]\n",
      " [0.66666667]\n",
      " [0.72222222]\n",
      " [0.41666667]\n",
      " [0.69444444]\n",
      " [0.66666667]\n",
      " [0.66666667]\n",
      " [0.55555556]\n",
      " [0.61111111]\n",
      " [0.52777778]\n",
      " [0.44444444]]\n",
      "--------------------\n",
      "Z-преобразование:\n",
      " [[ 1.03205722]\n",
      " [-0.1249576 ]\n",
      " [ 0.33784833]\n",
      " [ 0.10644536]\n",
      " [ 1.26346019]\n",
      " [ 1.95766909]\n",
      " [ 0.80065426]\n",
      " [ 0.80065426]\n",
      " [-0.35636057]\n",
      " [ 0.10644536]\n",
      " [ 1.49486315]\n",
      " [ 0.80065426]\n",
      " [-0.1249576 ]\n",
      " [-0.1249576 ]\n",
      " [ 2.18907205]\n",
      " [ 3.11468391]\n",
      " [ 1.95766909]\n",
      " [ 1.03205722]\n",
      " [ 1.72626612]\n",
      " [ 1.72626612]\n",
      " [ 0.80065426]\n",
      " [ 1.49486315]\n",
      " [ 1.26346019]\n",
      " [ 0.56925129]\n",
      " [ 0.80065426]\n",
      " [-0.1249576 ]\n",
      " [ 0.80065426]\n",
      " [ 1.03205722]\n",
      " [ 0.80065426]\n",
      " [ 0.33784833]\n",
      " [ 0.10644536]\n",
      " [ 0.80065426]\n",
      " [ 2.42047502]\n",
      " [ 2.65187798]\n",
      " [ 0.10644536]\n",
      " [ 0.33784833]\n",
      " [ 1.03205722]\n",
      " [ 0.10644536]\n",
      " [-0.1249576 ]\n",
      " [ 0.80065426]\n",
      " [ 1.03205722]\n",
      " [-1.74477836]\n",
      " [ 0.33784833]\n",
      " [ 1.03205722]\n",
      " [ 1.72626612]\n",
      " [-0.1249576 ]\n",
      " [ 1.72626612]\n",
      " [ 0.33784833]\n",
      " [ 1.49486315]\n",
      " [ 0.56925129]\n",
      " [ 0.33784833]\n",
      " [ 0.33784833]\n",
      " [ 0.10644536]\n",
      " [-1.74477836]\n",
      " [-0.58776353]\n",
      " [-0.58776353]\n",
      " [ 0.56925129]\n",
      " [-1.51337539]\n",
      " [-0.35636057]\n",
      " [-0.8191665 ]\n",
      " [-2.43898725]\n",
      " [-0.1249576 ]\n",
      " [-1.97618132]\n",
      " [-0.35636057]\n",
      " [-0.35636057]\n",
      " [ 0.10644536]\n",
      " [-0.1249576 ]\n",
      " [-0.8191665 ]\n",
      " [-1.97618132]\n",
      " [-1.28197243]\n",
      " [ 0.33784833]\n",
      " [-0.58776353]\n",
      " [-1.28197243]\n",
      " [-0.58776353]\n",
      " [-0.35636057]\n",
      " [-0.1249576 ]\n",
      " [-0.58776353]\n",
      " [-0.1249576 ]\n",
      " [-0.35636057]\n",
      " [-1.05056946]\n",
      " [-1.51337539]\n",
      " [-1.51337539]\n",
      " [-0.8191665 ]\n",
      " [-0.8191665 ]\n",
      " [-0.1249576 ]\n",
      " [ 0.80065426]\n",
      " [ 0.10644536]\n",
      " [-1.74477836]\n",
      " [-0.1249576 ]\n",
      " [-1.28197243]\n",
      " [-1.05056946]\n",
      " [-0.1249576 ]\n",
      " [-1.05056946]\n",
      " [-1.74477836]\n",
      " [-0.8191665 ]\n",
      " [-0.1249576 ]\n",
      " [-0.35636057]\n",
      " [-0.35636057]\n",
      " [-1.28197243]\n",
      " [-0.58776353]\n",
      " [ 0.56925129]\n",
      " [-0.8191665 ]\n",
      " [-0.1249576 ]\n",
      " [-0.35636057]\n",
      " [-0.1249576 ]\n",
      " [-0.1249576 ]\n",
      " [-1.28197243]\n",
      " [-0.35636057]\n",
      " [-1.28197243]\n",
      " [ 1.26346019]\n",
      " [ 0.33784833]\n",
      " [-0.8191665 ]\n",
      " [-0.1249576 ]\n",
      " [-1.28197243]\n",
      " [-0.58776353]\n",
      " [ 0.33784833]\n",
      " [-0.1249576 ]\n",
      " [ 1.72626612]\n",
      " [-1.05056946]\n",
      " [-1.97618132]\n",
      " [ 0.33784833]\n",
      " [-0.58776353]\n",
      " [-0.58776353]\n",
      " [-0.8191665 ]\n",
      " [ 0.56925129]\n",
      " [ 0.33784833]\n",
      " [-0.58776353]\n",
      " [-0.1249576 ]\n",
      " [-0.58776353]\n",
      " [-0.1249576 ]\n",
      " [-0.58776353]\n",
      " [ 1.72626612]\n",
      " [-0.58776353]\n",
      " [-0.58776353]\n",
      " [-1.05056946]\n",
      " [-0.1249576 ]\n",
      " [ 0.80065426]\n",
      " [ 0.10644536]\n",
      " [-0.1249576 ]\n",
      " [ 0.10644536]\n",
      " [ 0.10644536]\n",
      " [ 0.10644536]\n",
      " [-0.8191665 ]\n",
      " [ 0.33784833]\n",
      " [ 0.56925129]\n",
      " [-0.1249576 ]\n",
      " [-1.28197243]\n",
      " [-0.1249576 ]\n",
      " [ 0.80065426]\n",
      " [-0.1249576 ]]\n"
     ]
    }
   ],
   "source": [
    "from sklearn import preprocessing\n",
    "\n",
    "\n",
    "url = 'https://raw.githubusercontent.com/akmand/datasets/master/iris.csv'\n",
    "data = pd.read_csv(url)\n",
    "\n",
    "first = [[item] for item in data['sepal_length_cm']]\n",
    "second = [[item] for item in data['sepal_width_cm']]\n",
    "\n",
    "minmax_scale = preprocessing.MinMaxScaler(feature_range=(0, 1))\n",
    "minmax_scaled = minmax_scale.fit_transform(first)\n",
    "\n",
    "standard_scale = preprocessing.StandardScaler()\n",
    "standardized = standard_scale.fit_transform(second)\n",
    "\n",
    "print('Минимакс преобразование:\\n', minmax_scaled)\n",
    "print('-' * 20)\n",
    "print('Z-преобразование:\\n', standardized)"
   ]
  }
 ],
 "metadata": {
  "kernelspec": {
   "display_name": "Python 3",
   "language": "python",
   "name": "python3"
  },
  "language_info": {
   "codemirror_mode": {
    "name": "ipython",
    "version": 3
   },
   "file_extension": ".py",
   "mimetype": "text/x-python",
   "name": "python",
   "nbconvert_exporter": "python",
   "pygments_lexer": "ipython3",
   "version": "3.8.8"
  }
 },
 "nbformat": 4,
 "nbformat_minor": 5
}
