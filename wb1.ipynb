{
 "cells": [
  {
   "cell_type": "markdown",
   "id": "739d4511",
   "metadata": {},
   "source": [
    "# Рабочая тетрадь 1. Основы Python. Библиотеки"
   ]
  },
  {
   "cell_type": "markdown",
   "id": "8ab931c8",
   "metadata": {},
   "source": [
    "## Ломоносов Георгий Алексеевич"
   ]
  },
  {
   "cell_type": "markdown",
   "id": "6bb3fc59",
   "metadata": {},
   "source": [
    "### Типы данных"
   ]
  },
  {
   "cell_type": "markdown",
   "id": "031e310c",
   "metadata": {},
   "source": [
    "Все типы данных в Python относятся к одной из 2-х категорий: \n",
    "изменяемые (mutable) и неизменяемые (immutable).\n",
    "#### Неизменяемые объекты:\n",
    "-\tчисловые данные (int, float),\n",
    "-\tbool,\n",
    "-\tNone,\n",
    "-\tсимвольные строки (class 'str'),\n",
    "-\tкортежи (tuple).\n",
    "\n",
    "#### Изменяемые объекты:\n",
    "-\tсписки (list),\n",
    "-\tмножества (set),\n",
    "-\tсловари (dict)."
   ]
  },
  {
   "cell_type": "markdown",
   "id": "fb9996e0",
   "metadata": {},
   "source": [
    "#### 1.2 Пример"
   ]
  },
  {
   "cell_type": "markdown",
   "id": "6757f729",
   "metadata": {},
   "source": [
    "#### Задача:"
   ]
  },
  {
   "cell_type": "code",
   "execution_count": 1,
   "id": "aaf4698d",
   "metadata": {},
   "outputs": [],
   "source": [
    "x = 3+5.2*7\n",
    "y = None\n",
    "z = 'a', 5, 12.345, (2, 'b')\n",
    "df = [['Антонова Антонина', 34, 'ж'], ['Борисов Борис', 26, 'м']]\n",
    "A = {1, 'title', 2, 'content'}"
   ]
  },
  {
   "cell_type": "markdown",
   "id": "6561675d",
   "metadata": {},
   "source": [
    "##### Решение"
   ]
  },
  {
   "cell_type": "code",
   "execution_count": 3,
   "id": "7cc7d29a",
   "metadata": {},
   "outputs": [
    {
     "name": "stdout",
     "output_type": "stream",
     "text": [
      "39.4 | <class 'float'> \n",
      " None | <class 'NoneType'> \n",
      " ('a', 5, 12.345, (2, 'b')) | <class 'tuple'> \n",
      " [['Антонова Антонина', 34, 'ж'], ['Борисов Борис', 26, 'м']] | <class 'list'> \n",
      " {1, 2, 'content', 'title'} | <class 'set'>\n"
     ]
    }
   ],
   "source": [
    "print(x, '|', type(x), '\\n', y, '|', type(y), '\\n',\n",
    "      z, '|', type(z), '\\n', df, '|', type(df), '\\n', A, '|', type(A))"
   ]
  },
  {
   "cell_type": "markdown",
   "id": "325e832f",
   "metadata": {},
   "source": [
    "#### 1.3 Задание"
   ]
  },
  {
   "cell_type": "markdown",
   "id": "b9dc583a",
   "metadata": {},
   "source": [
    "##### Задача:"
   ]
  },
  {
   "cell_type": "code",
   "execution_count": 4,
   "id": "9ff0a50f",
   "metadata": {},
   "outputs": [],
   "source": [
    "x = 5 >= 2\n",
    "A = {1, 3, 7, 8}\n",
    "B = {2, 4, 5, 10, 'apple'}\n",
    "C = A & B\n",
    "df = 'Антонова Антонина', 34, 'ж'\n",
    "z = 'type'\n",
    "D = [1, 'title', 2, 'content']"
   ]
  },
  {
   "cell_type": "markdown",
   "id": "8ba58b4a",
   "metadata": {},
   "source": [
    "##### Решение:"
   ]
  },
  {
   "cell_type": "code",
   "execution_count": 6,
   "id": "12e23eb1",
   "metadata": {},
   "outputs": [
    {
     "name": "stdout",
     "output_type": "stream",
     "text": [
      "True | <class 'bool'> \n",
      " {8, 1, 3, 7} | <class 'set'> \n",
      " {2, 4, 5, 10, 'apple'} | <class 'set'> \n",
      " set() | <class 'set'> \n",
      " ('Антонова Антонина', 34, 'ж') | <class 'tuple'> \n",
      " type | <class 'str'> \n",
      " [1, 'title', 2, 'content'] | <class 'list'>\n"
     ]
    }
   ],
   "source": [
    "print(x, '|', type(x), '\\n', A, '|', type(A), '\\n',\n",
    "     B, '|', type(B), '\\n', C, '|', type(C), '\\n', df, '|', type(df), '\\n',\n",
    "     z, '|', type(z), '\\n', D, '|', type(D))"
   ]
  },
  {
   "cell_type": "markdown",
   "id": "836250aa",
   "metadata": {},
   "source": [
    "### If - Условный оператор"
   ]
  },
  {
   "cell_type": "markdown",
   "id": "a970e040",
   "metadata": {},
   "source": [
    "В коде часто приходится проверять выполнимость или невыполнимость каких-то условий. \n",
    "###### Синтаксис:\n",
    "if<условие1 (булевское выражение)>:\n",
    "<div style=\"margin-left: 25px\"><код, который выполнится, если условие верно></div>\n",
    "elif<условие2 (булевское выражение)>:\n",
    "<div style=\"margin-left: 25px\"><код, который выполнится, если условие1 было неверно, а условие 2 верно></div>\n",
    "else:\n",
    "<div style=\"margin-left: 25px\"><код, который выполнится, если условие1 и условие2 были неверны></div>\n",
    "\n",
    "Обратите внимание, что код, который должен выполняться внутри каждого условия, записывается с отступом в 4 пробела от уровня if, elif и else: в питоне области видимости переменных обозначаются отступами.\n",
    "###### То есть, отступы позволяют понять, где начинается код, который должен выполняться при выполнении условия в if, и где заканчивается."
   ]
  },
  {
   "cell_type": "markdown",
   "id": "826156a4",
   "metadata": {},
   "source": [
    "##### 2.2. Пример"
   ]
  },
  {
   "cell_type": "markdown",
   "id": "d5ce21e6",
   "metadata": {},
   "source": [
    "###### Задача:"
   ]
  },
  {
   "cell_type": "code",
   "execution_count": 8,
   "id": "c1288bef",
   "metadata": {},
   "outputs": [
    {
     "name": "stdout",
     "output_type": "stream",
     "text": [
      "x положительный\n"
     ]
    }
   ],
   "source": [
    "x = 125\n",
    "if x < 0:\n",
    "    print(\"x отрицательный\")\n",
    "elif x == 0:\n",
    "    print(\"x равен нулю\")\n",
    "else:\n",
    "    print(\"x положительный\")"
   ]
  },
  {
   "cell_type": "markdown",
   "id": "e2de2fc3",
   "metadata": {},
   "source": [
    "##### 2.3. Задание"
   ]
  },
  {
   "cell_type": "markdown",
   "id": "49fe4cb5",
   "metadata": {},
   "source": [
    "###### Задача:"
   ]
  },
  {
   "cell_type": "markdown",
   "id": "9fd8d3a2",
   "metadata": {},
   "source": [
    "Напишите код. Задается х, напечатать какому из интервалов принадлежит: (-infinity, -5), [-5, 5] или от (5, +infinity)"
   ]
  },
  {
   "cell_type": "markdown",
   "id": "c7a911fe",
   "metadata": {},
   "source": [
    "###### Решение:"
   ]
  },
  {
   "cell_type": "code",
   "execution_count": 9,
   "id": "4fabc7d5",
   "metadata": {},
   "outputs": [
    {
     "name": "stdout",
     "output_type": "stream",
     "text": [
      "x принадлежит промежутку (5, +infinity)\n"
     ]
    }
   ],
   "source": [
    "x = 15\n",
    "if x < -5:\n",
    "    print('x принадлежит интервалу (-infinity, -5)')\n",
    "elif x in range(-5, 6):\n",
    "    print('x принадлежит интервалу [-5, 5]')\n",
    "elif x > 5:\n",
    "    print('x принадлежит промежутку (5, +infinity)')"
   ]
  },
  {
   "cell_type": "markdown",
   "id": "1144737c",
   "metadata": {},
   "source": [
    "### Циклы for и while"
   ]
  },
  {
   "cell_type": "markdown",
   "id": "4e31f143",
   "metadata": {},
   "source": [
    "Цикл while проверяет истинность условия, и если условие истинно, то выполняет инструкции цикла.\n",
    "Синтаксис:\n",
    "\n",
    "while условие:\n",
    "<div style=\"margin-left: 25px\">инструкции</div>\n",
    "\n",
    "Инструкции, которые относятся к циклу while, располагаются на последующих строках и должны иметь отступ от начала ключевого слова while.\n",
    "\n",
    "Цикл for проходит по набору значений, помещает каждое значение в переменную с которой в цикле можно производить различные действия.\n",
    "Синтаксис:\n",
    "\n",
    "for переменная in набор_значений:\n",
    "<div style=\"margin-left: 25px\">инструкции</div>\n",
    "\n",
    "После ключевого слова for идет название переменной, в которую будут помещаться значения. После оператора in указывается набор значений и двоеточие. \n",
    "\n",
    "Инструкции, которые относятся к циклу, располагаются на последующих строках и должны иметь отступ.\n",
    "\n",
    "При создании цикла удобно пользоваться функцией range(a, b), которая создает последовательность чисел от a до b-1.\n"
   ]
  },
  {
   "cell_type": "markdown",
   "id": "bb9dab57",
   "metadata": {},
   "source": [
    "###### 3.2.1. Пример"
   ]
  },
  {
   "cell_type": "markdown",
   "id": "ce98cd6a",
   "metadata": {},
   "source": [
    "###### Задача:"
   ]
  },
  {
   "cell_type": "code",
   "execution_count": 10,
   "id": "947af239",
   "metadata": {},
   "outputs": [
    {
     "name": "stdout",
     "output_type": "stream",
     "text": [
      "1\n",
      "4\n",
      "7\n",
      "10\n"
     ]
    }
   ],
   "source": [
    "x = 1\n",
    "while x <= 10:\n",
    "    print(x)\n",
    "    x += 3"
   ]
  },
  {
   "cell_type": "markdown",
   "id": "ecd7a16c",
   "metadata": {},
   "source": [
    "###### 3.2.2. Пример"
   ]
  },
  {
   "cell_type": "markdown",
   "id": "d2f19071",
   "metadata": {},
   "source": [
    "###### Задача:"
   ]
  },
  {
   "cell_type": "code",
   "execution_count": 11,
   "id": "7db8b651",
   "metadata": {},
   "outputs": [
    {
     "name": "stdout",
     "output_type": "stream",
     "text": [
      "KNN\n",
      "decision tree\n",
      "linear model\n"
     ]
    }
   ],
   "source": [
    "models = ['KNN', 'decision tree', 'linear model']\n",
    "for model in models:\n",
    "    print(model)"
   ]
  },
  {
   "cell_type": "markdown",
   "id": "8846b2d7",
   "metadata": {},
   "source": [
    "###### 3.2.3. Пример"
   ]
  },
  {
   "cell_type": "markdown",
   "id": "4348211a",
   "metadata": {},
   "source": [
    "###### Задача:"
   ]
  },
  {
   "cell_type": "code",
   "execution_count": 12,
   "id": "12d54059",
   "metadata": {},
   "outputs": [
    {
     "name": "stdout",
     "output_type": "stream",
     "text": [
      "[1, 8, 15, 22, 29, 36, 43, 50, 57, 64, 71, 78, 85, 92, 99]\n"
     ]
    }
   ],
   "source": [
    "list_int = range(1, 100, 7)\n",
    "print(list(list_int))"
   ]
  },
  {
   "cell_type": "markdown",
   "id": "5330504c",
   "metadata": {},
   "source": [
    "###### 3.2.4. Пример"
   ]
  },
  {
   "cell_type": "markdown",
   "id": "77077d45",
   "metadata": {},
   "source": [
    "###### Задача:"
   ]
  },
  {
   "cell_type": "code",
   "execution_count": 13,
   "id": "af69373c",
   "metadata": {},
   "outputs": [
    {
     "name": "stdout",
     "output_type": "stream",
     "text": [
      "5\n",
      "30\n",
      "55\n",
      "80\n",
      "105\n"
     ]
    }
   ],
   "source": [
    "for i in range(5, 106, 25):\n",
    "    print(i)"
   ]
  },
  {
   "cell_type": "markdown",
   "id": "aa769eca",
   "metadata": {},
   "source": [
    "###### 3.2.5. Пример"
   ]
  },
  {
   "cell_type": "markdown",
   "id": "d5b09491",
   "metadata": {},
   "source": [
    "###### Задача:"
   ]
  },
  {
   "cell_type": "code",
   "execution_count": 14,
   "id": "6321f49b",
   "metadata": {},
   "outputs": [
    {
     "name": "stdout",
     "output_type": "stream",
     "text": [
      "[2, 4, 6]\n",
      "[9, 8, 7, 6, 5, 4, 3, 2, 1]\n"
     ]
    }
   ],
   "source": [
    "a = [1, 2, 3, 4, 5, 6, 7, 8, 9]\n",
    "b = a[1:7:2]\n",
    "c = a[::-1]\n",
    "print(b)\n",
    "print(c)"
   ]
  },
  {
   "cell_type": "markdown",
   "id": "5ed27e5c",
   "metadata": {},
   "source": [
    "###### 3.3.1 Задание"
   ]
  },
  {
   "cell_type": "markdown",
   "id": "81d5d4e7",
   "metadata": {},
   "source": [
    "###### Задача:"
   ]
  },
  {
   "cell_type": "code",
   "execution_count": 15,
   "id": "2dfcc378",
   "metadata": {},
   "outputs": [
    {
     "name": "stdout",
     "output_type": "stream",
     "text": [
      "10\n",
      "7\n",
      "4\n",
      "1\n"
     ]
    }
   ],
   "source": [
    "x = 10\n",
    "while x >= 1:\n",
    "    print(x)\n",
    "    x -= 3"
   ]
  },
  {
   "cell_type": "markdown",
   "id": "b3c2153a",
   "metadata": {},
   "source": [
    "###### 3.3.2 Задание"
   ]
  },
  {
   "cell_type": "markdown",
   "id": "0847a447",
   "metadata": {},
   "source": [
    "###### Задача:"
   ]
  },
  {
   "cell_type": "code",
   "execution_count": 21,
   "id": "3143b7da",
   "metadata": {},
   "outputs": [
    {
     "name": "stdout",
     "output_type": "stream",
     "text": [
      "surname\n",
      "name\n",
      "patronym\n",
      "date of birth\n",
      "sex\n",
      "living place\n",
      "height\n",
      "weight\n"
     ]
    }
   ],
   "source": [
    "person = ['surname', 'name', 'patronym', 'date of birth', 'sex', 'living place', 'height', 'weight']\n",
    "for item in person:\n",
    "    print(item)"
   ]
  },
  {
   "cell_type": "markdown",
   "id": "62d702eb",
   "metadata": {},
   "source": [
    "###### 3.3.3 Задание"
   ]
  },
  {
   "cell_type": "markdown",
   "id": "aaf16724",
   "metadata": {},
   "source": [
    "###### Задача:"
   ]
  },
  {
   "cell_type": "code",
   "execution_count": 22,
   "id": "3a3bb0f5",
   "metadata": {},
   "outputs": [
    {
     "name": "stdout",
     "output_type": "stream",
     "text": [
      "[2, 3, 4, 5, 6, 7, 8, 9, 10, 11, 12, 13, 14, 15]\n"
     ]
    }
   ],
   "source": [
    "lst = []\n",
    "for i in range(2, 16):\n",
    "    lst.append(i)\n",
    "print(lst)"
   ]
  },
  {
   "cell_type": "markdown",
   "id": "4c6f2cd2",
   "metadata": {},
   "source": [
    "###### 3.3.4 Задание"
   ]
  },
  {
   "cell_type": "markdown",
   "id": "f6673ab9",
   "metadata": {},
   "source": [
    "###### Задача:"
   ]
  },
  {
   "cell_type": "code",
   "execution_count": 20,
   "id": "6ce30b39",
   "metadata": {},
   "outputs": [
    {
     "name": "stdout",
     "output_type": "stream",
     "text": [
      "105\n",
      "80\n",
      "55\n",
      "30\n",
      "5\n"
     ]
    }
   ],
   "source": [
    "for i in range(105, 4, -25):\n",
    "    print(i)"
   ]
  },
  {
   "cell_type": "markdown",
   "id": "a3801860",
   "metadata": {},
   "source": [
    "###### 3.3.5 Задание"
   ]
  },
  {
   "cell_type": "markdown",
   "id": "3579e519",
   "metadata": {},
   "source": [
    "###### Задача:"
   ]
  },
  {
   "cell_type": "code",
   "execution_count": 1,
   "id": "5f20e38a",
   "metadata": {},
   "outputs": [
    {
     "name": "stdout",
     "output_type": "stream",
     "text": [
      "[8, 1, 6, 3, 4, 5, 2, 7, 0, 9]\n"
     ]
    }
   ],
   "source": [
    "x = [0, 1, 2, 3, 4, 5, 6, 7, 8, 9]\n",
    "x[::2] = x[::2][::-1]\n",
    "print(x)"
   ]
  },
  {
   "cell_type": "markdown",
   "id": "f15de3d8",
   "metadata": {},
   "source": [
    "### Библиотеки"
   ]
  },
  {
   "cell_type": "markdown",
   "id": "stock-input",
   "metadata": {},
   "source": [
    "Машинное обучение опирается на фундаментальные понятия и законы \n",
    "математики и информатики. Библиотека математических функций (math) \n",
    "применяется при решении большинства прикладных задач анализа данных. \n",
    "Также, и некоторые другие библиотеки Python содержат математические \n",
    "функции (например, NumPy). Важную роль играет библиотека matplotlib, \n",
    "которая позволяет производить визуализацию расчетов в удобной для \n",
    "восприятия человеком форме: графики, диаграммы, гистограммы.\n",
    "Подключение библиотек – синтаксис: \n",
    "import math as m\n",
    "import numpy as np\n",
    "import matplotlib.pyplot as plt\n",
    "etc…\n",
    "Библиотеки в python содержат не только функции, позволяющие решать \n",
    "различные задачи, но и некоторые популярные константы, например число \n",
    "Эйлера."
   ]
  },
  {
   "cell_type": "markdown",
   "id": "behavioral-short",
   "metadata": {},
   "source": [
    "###### 4.2.1 Пример"
   ]
  },
  {
   "cell_type": "markdown",
   "id": "postal-prayer",
   "metadata": {},
   "source": [
    "###### Задача:"
   ]
  },
  {
   "cell_type": "code",
   "execution_count": 1,
   "id": "educational-cardiff",
   "metadata": {},
   "outputs": [
    {
     "name": "stdout",
     "output_type": "stream",
     "text": [
      "0.41078129050290885\n"
     ]
    }
   ],
   "source": [
    "import math as m\n",
    "print(m.sin(m.e))"
   ]
  },
  {
   "cell_type": "markdown",
   "id": "nonprofit-russian",
   "metadata": {},
   "source": [
    "###### 4.2.2 Пример"
   ]
  },
  {
   "cell_type": "markdown",
   "id": "spiritual-decrease",
   "metadata": {},
   "source": [
    "###### Задача:"
   ]
  },
  {
   "cell_type": "code",
   "execution_count": 4,
   "id": "dangerous-vegetation",
   "metadata": {},
   "outputs": [
    {
     "name": "stdout",
     "output_type": "stream",
     "text": [
      "73.50792907748662\n"
     ]
    },
    {
     "data": {
      "image/png": "[encoded data removed]",
      "text/plain": [
       "<Figure size 432x288 with 1 Axes>"
      ]
     },
     "metadata": {
      "needs_background": "light"
     },
     "output_type": "display_data"
    }
   ],
   "source": [
    "import numpy as np\n",
    "import matplotlib.pyplot as plt\n",
    "from scipy.integrate import simps\n",
    "from numpy import trapz\n",
    "x = np.arange(0.0, 10, 0.1)\n",
    "y = np.abs(np.sin(x*np.exp(np.cos(x))))\n",
    "plt.grid()\n",
    "plt.plot(x, y, c = \"r\")\n",
    "plt.fill_between(x, y)\n",
    "\n",
    "area = trapz(y)\n",
    "print(area)"
   ]
  },
  {
   "cell_type": "markdown",
   "id": "automatic-marshall",
   "metadata": {},
   "source": [
    "###### 4.2.3 Пример"
   ]
  },
  {
   "cell_type": "markdown",
   "id": "spatial-intelligence",
   "metadata": {},
   "source": [
    "###### Задача:"
   ]
  },
  {
   "cell_type": "code",
   "execution_count": 5,
   "id": "urban-blood",
   "metadata": {},
   "outputs": [
    {
     "data": {
      "image/png": "[encoded data removed]",
      "text/plain": [
       "<Figure size 720x504 with 1 Axes>"
      ]
     },
     "metadata": {},
     "output_type": "display_data"
    },
    {
     "data": {
      "text/plain": [
       "<matplotlib.collections.PathCollection at 0x1dc5a6b8310>"
      ]
     },
     "execution_count": 5,
     "metadata": {},
     "output_type": "execute_result"
    },
    {
     "data": {
      "image/png": "[encoded data removed]",
      "text/plain": [
       "<Figure size 432x288 with 1 Axes>"
      ]
     },
     "metadata": {
      "needs_background": "light"
     },
     "output_type": "display_data"
    }
   ],
   "source": [
    "from matplotlib import pyplot as plt\n",
    "import numpy as np\n",
    "\n",
    "marks = ['Неуд', 'Удовл', 'Хор', 'Отл']\n",
    "\n",
    "data = [3, 7, 8, 4]\n",
    "fig = plt.figure(figsize = (10, 7))\n",
    "plt.pie(data, labels=marks)\n",
    "plt.show()\n",
    "plt.grid()\n",
    "plt.scatter(marks, data)"
   ]
  },
  {
   "cell_type": "markdown",
   "id": "detailed-queensland",
   "metadata": {},
   "source": [
    "###### 4.3.1 Задание"
   ]
  },
  {
   "cell_type": "markdown",
   "id": "plastic-aside",
   "metadata": {},
   "source": [
    "###### Задача:"
   ]
  },
  {
   "cell_type": "code",
   "execution_count": 5,
   "id": "thousand-boundary",
   "metadata": {},
   "outputs": [
    {
     "name": "stdout",
     "output_type": "stream",
     "text": [
      "Массив случайных значений: [0.073, 0.435, 0.61, 0.311, 0.256, 0.713, 0.372, 0.251, 0.329, 0.01]\n",
      "Среднее значение: 0.33599999999999997\n",
      "Медианное значение: 0.32\n"
     ]
    },
    {
     "data": {
      "text/plain": [
       "<matplotlib.collections.PathCollection at 0x1da31647ac0>"
      ]
     },
     "execution_count": 5,
     "metadata": {},
     "output_type": "execute_result"
    },
    {
     "data": {
      "image/png": "[encoded data removed]",
      "text/plain": [
       "<Figure size 432x288 with 1 Axes>"
      ]
     },
     "metadata": {
      "needs_background": "light"
     },
     "output_type": "display_data"
    }
   ],
   "source": [
    "from random import random as rd\n",
    "from matplotlib.pyplot import scatter as sct\n",
    "import numpy as np\n",
    "values = [round(rd(), 3) for _ in range(10)]\n",
    "\n",
    "mid_value = sum(values) / 10\n",
    "\n",
    "median_value = np.median(values)\n",
    "\n",
    "print(f'Массив случайных значений: {values}')\n",
    "print(f'Среднее значение: {mid_value}\\nМедианное значение: {median_value}')\n",
    "sct(list(np.arange(1, 11, 1.0)), values)"
   ]
  },
  {
   "cell_type": "markdown",
   "id": "floral-symposium",
   "metadata": {},
   "source": [
    "###### 4.3.2 Задание"
   ]
  },
  {
   "cell_type": "markdown",
   "id": "talented-harmony",
   "metadata": {},
   "source": [
    "###### Задача:"
   ]
  },
  {
   "cell_type": "code",
   "execution_count": 9,
   "id": "swedish-atmosphere",
   "metadata": {},
   "outputs": [
    {
     "data": {
      "image/png": "[encoded data removed]",
      "text/plain": [
       "<Figure size 432x288 with 1 Axes>"
      ]
     },
     "metadata": {
      "needs_background": "light"
     },
     "output_type": "display_data"
    },
    {
     "data": {
      "text/plain": [
       "<matplotlib.collections.PathCollection at 0x1da31901b50>"
      ]
     },
     "execution_count": 9,
     "metadata": {},
     "output_type": "execute_result"
    },
    {
     "data": {
      "image/png": "[encoded data removed]",
      "text/plain": [
       "<Figure size 432x288 with 1 Axes>"
      ]
     },
     "metadata": {
      "needs_background": "light"
     },
     "output_type": "display_data"
    }
   ],
   "source": [
    "import math as m\n",
    "from random import randint as rd\n",
    "from matplotlib import pyplot as plt\n",
    "import numpy as np\n",
    "\n",
    "\n",
    "def func(x):\n",
    "    numerator = m.sqrt(1 + m.exp(m.sqrt(x)) + m.cos(x ** 2))\n",
    "    denominator = abs(1 - (m.sin(x) ** 3))\n",
    "    res = numerator / denominator\n",
    "    res += m.log(2 * x)\n",
    "    return res\n",
    "\n",
    "\n",
    "y = [round(func(rd(1, 10)), 3) for _ in range(10)]\n",
    "x = np.arange(0.0, 10, 0.1)\n",
    "\n",
    "plt.plot(y)\n",
    "plt.show()\n",
    "plt.scatter(list(np.arange(1, 6, 1)), y[:5])"
   ]
  },
  {
   "cell_type": "markdown",
   "id": "likely-farming",
   "metadata": {},
   "source": [
    "###### 4.3.3 Задание"
   ]
  },
  {
   "cell_type": "markdown",
   "id": "based-narrow",
   "metadata": {},
   "source": [
    "###### Задача:"
   ]
  },
  {
   "cell_type": "code",
   "execution_count": 44,
   "id": "extensive-documentation",
   "metadata": {},
   "outputs": [
    {
     "data": {
      "image/png": "[encoded data removed]",
      "text/plain": [
       "<Figure size 432x288 with 1 Axes>"
      ]
     },
     "metadata": {
      "needs_background": "light"
     },
     "output_type": "display_data"
    },
    {
     "name": "stdout",
     "output_type": "stream",
     "text": [
      "6.260345875494747\n"
     ]
    }
   ],
   "source": [
    "from matplotlib import pyplot as plt\n",
    "from scipy.integrate import simps\n",
    "import numpy as np\n",
    "import math as m\n",
    "\n",
    "\n",
    "def func(x):\n",
    "    return abs(m.cos(x * m.exp(m.cos(x) + m.log(x + 1))))\n",
    "\n",
    "\n",
    "x = np.arange(0, 10, 1)\n",
    "y = [func(i) for i in range(10)]\n",
    "plt.plot(x, y)\n",
    "plt.fill_between(x, y)\n",
    "plt.show()\n",
    "\n",
    "print(np.trapz(y, x))"
   ]
  },
  {
   "cell_type": "markdown",
   "id": "pregnant-frontier",
   "metadata": {},
   "source": [
    "###### 4.3.4 Задание"
   ]
  },
  {
   "cell_type": "markdown",
   "id": "elect-mercy",
   "metadata": {},
   "source": [
    "###### Задача:"
   ]
  },
  {
   "cell_type": "code",
   "execution_count": 2,
   "id": "surface-college",
   "metadata": {},
   "outputs": [
    {
     "name": "stdout",
     "output_type": "stream",
     "text": [
      "[*********************100%***********************]  1 of 1 completed\n",
      "[*********************100%***********************]  1 of 1 completed\n",
      "[*********************100%***********************]  1 of 1 completed\n"
     ]
    },
    {
     "data": {
      "image/png": "[encoded data removed]",
      "text/plain": [
       "<Figure size 2160x360 with 1 Axes>"
      ]
     },
     "metadata": {
      "needs_background": "light"
     },
     "output_type": "display_data"
    },
    {
     "data": {
      "image/png": "[encoded data removed]",
      "text/plain": [
       "<Figure size 2160x360 with 1 Axes>"
      ]
     },
     "metadata": {
      "needs_background": "light"
     },
     "output_type": "display_data"
    },
    {
     "data": {
      "image/png": "[encoded data removed]",
      "text/plain": [
       "<Figure size 2160x360 with 1 Axes>"
      ]
     },
     "metadata": {
      "needs_background": "light"
     },
     "output_type": "display_data"
    }
   ],
   "source": [
    "import yfinance as yf\n",
    "import matplotlib.pyplot as plt\n",
    "import numpy as np\n",
    "\n",
    "\n",
    "def create_plot(comp, title):\n",
    "    prices = list(comp['Open'][::21])\n",
    "    months = list(np.arange(1, 13, 1))\n",
    "    fig = plt.figure()\n",
    "    fig.set_figheight(5)\n",
    "    fig.set_figwidth(30)\n",
    "    plt.plot(months, prices)\n",
    "    green = [True]\n",
    "    red = [False]\n",
    "    for i in range(1, len(prices)):\n",
    "        green.append(prices[i] >= prices[i-1])\n",
    "        red.append(not green[-1])\n",
    "    plt.fill_between(months, prices, where=green, color='g')\n",
    "    plt.fill_between(months, prices, where=red, color='r')\n",
    "    plt.show()\n",
    "\n",
    "\n",
    "apple = yf.download('AAPL', '2021-01-01', '2021-12-31')\n",
    "microsoft = yf.download('MSFT', '2021-01-01', '2021-12-31')\n",
    "google = yf.download('GOOG', '2021-01-01', '2021-12-31')\n",
    "\n",
    "create_plot(apple, 'Apple')\n",
    "create_plot(microsoft, 'Microsoft')\n",
    "create_plot(google, 'Google')\n"
   ]
  },
  {
   "cell_type": "markdown",
   "id": "baking-graduate",
   "metadata": {},
   "source": [
    "Улучшить визуализацию можно за счет закрашивания возрастающих частей графика зелёным, а убывающих - красным, чтобы динамика изменения цен была лучше видна."
   ]
  },
  {
   "cell_type": "markdown",
   "id": "convinced-outside",
   "metadata": {},
   "source": [
    "###### 4.3.5 Задание"
   ]
  },
  {
   "cell_type": "markdown",
   "id": "consistent-festival",
   "metadata": {},
   "source": [
    "###### Задача:"
   ]
  },
  {
   "cell_type": "code",
   "execution_count": 6,
   "id": "referenced-salon",
   "metadata": {},
   "outputs": [
    {
     "name": "stdout",
     "output_type": "stream",
     "text": [
      "Первое число: 7\n",
      "Второе число: 9\n",
      "\n",
      "16\n",
      "-2\n",
      "63\n",
      "0.7777777777777778\n",
      "8886110.520507872\n",
      "-0.2879033166650653\n",
      "-0.9576594803233847\n",
      "40353607\n"
     ]
    }
   ],
   "source": [
    "from math import exp, sin, cos\n",
    "from random import randint as rd\n",
    "\n",
    "def plus(x, y):\n",
    "    return x + y\n",
    "\n",
    "def minus(x, y):\n",
    "    return x - y\n",
    "\n",
    "def multiply(x, y):\n",
    "    return x * y\n",
    "\n",
    "def divide(x, y):\n",
    "    try:\n",
    "        x /= y\n",
    "    except ZeroDivisionError:\n",
    "        print('Деление на ноль невозможно!')\n",
    "        return\n",
    "    return x\n",
    "\n",
    "\n",
    "x, y = rd(1, 10), rd(1, 10)\n",
    "print(f'Первое число: {x}\\nВторое число: {y}\\n')\n",
    "print(plus(x, y))\n",
    "print(minus(x, y))\n",
    "print(multiply(x, y))\n",
    "print(divide(x, y))\n",
    "print(exp(plus(x, y)))\n",
    "print(sin(plus(x, y)))\n",
    "print(cos(plus(x, y)))\n",
    "print(x ** y)"
   ]
  }
 ],
 "metadata": {
  "kernelspec": {
   "display_name": "Python 3",
   "language": "python",
   "name": "python3"
  },
  "language_info": {
   "codemirror_mode": {
    "name": "ipython",
    "version": 3
   },
   "file_extension": ".py",
   "mimetype": "text/x-python",
   "name": "python",
   "nbconvert_exporter": "python",
   "pygments_lexer": "ipython3",
   "version": "3.9.2"
  }
 },
 "nbformat": 4,
 "nbformat_minor": 5
}
